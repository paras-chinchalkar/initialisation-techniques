{
 "cells": [
  {
   "cell_type": "code",
   "execution_count": 46,
   "id": "eaa49b1b-c7bb-46b5-9857-ae438b7d15f5",
   "metadata": {},
   "outputs": [],
   "source": [
    "import pandas as pd\n",
    "import numpy as np\n",
    "import matplotlib.pyplot as plt"
   ]
  },
  {
   "cell_type": "code",
   "execution_count": 48,
   "id": "a153b47f-ec66-44b7-89c9-035ff79fb931",
   "metadata": {},
   "outputs": [],
   "source": [
    "df=pd.read_csv('ushape.csv')"
   ]
  },
  {
   "cell_type": "code",
   "execution_count": 50,
   "id": "bf592c05-a2e7-44a3-9d69-e8be6405e6d2",
   "metadata": {},
   "outputs": [
    {
     "data": {
      "text/html": [
       "<div>\n",
       "<style scoped>\n",
       "    .dataframe tbody tr th:only-of-type {\n",
       "        vertical-align: middle;\n",
       "    }\n",
       "\n",
       "    .dataframe tbody tr th {\n",
       "        vertical-align: top;\n",
       "    }\n",
       "\n",
       "    .dataframe thead th {\n",
       "        text-align: right;\n",
       "    }\n",
       "</style>\n",
       "<table border=\"1\" class=\"dataframe\">\n",
       "  <thead>\n",
       "    <tr style=\"text-align: right;\">\n",
       "      <th></th>\n",
       "      <th>3.159499363321345566e-02</th>\n",
       "      <th>9.869877579082642072e-01</th>\n",
       "      <th>0.000000000000000000e+00</th>\n",
       "    </tr>\n",
       "  </thead>\n",
       "  <tbody>\n",
       "    <tr>\n",
       "      <th>0</th>\n",
       "      <td>2.115098</td>\n",
       "      <td>-0.046244</td>\n",
       "      <td>1.0</td>\n",
       "    </tr>\n",
       "    <tr>\n",
       "      <th>1</th>\n",
       "      <td>0.882490</td>\n",
       "      <td>-0.075756</td>\n",
       "      <td>0.0</td>\n",
       "    </tr>\n",
       "    <tr>\n",
       "      <th>2</th>\n",
       "      <td>-0.055144</td>\n",
       "      <td>-0.037332</td>\n",
       "      <td>1.0</td>\n",
       "    </tr>\n",
       "    <tr>\n",
       "      <th>3</th>\n",
       "      <td>0.829545</td>\n",
       "      <td>-0.539321</td>\n",
       "      <td>1.0</td>\n",
       "    </tr>\n",
       "    <tr>\n",
       "      <th>4</th>\n",
       "      <td>2.112857</td>\n",
       "      <td>0.662084</td>\n",
       "      <td>1.0</td>\n",
       "    </tr>\n",
       "  </tbody>\n",
       "</table>\n",
       "</div>"
      ],
      "text/plain": [
       "   3.159499363321345566e-02  9.869877579082642072e-01  \\\n",
       "0                  2.115098                 -0.046244   \n",
       "1                  0.882490                 -0.075756   \n",
       "2                 -0.055144                 -0.037332   \n",
       "3                  0.829545                 -0.539321   \n",
       "4                  2.112857                  0.662084   \n",
       "\n",
       "   0.000000000000000000e+00  \n",
       "0                       1.0  \n",
       "1                       0.0  \n",
       "2                       1.0  \n",
       "3                       1.0  \n",
       "4                       1.0  "
      ]
     },
     "execution_count": 50,
     "metadata": {},
     "output_type": "execute_result"
    }
   ],
   "source": [
    "df.head()"
   ]
  },
  {
   "cell_type": "code",
   "execution_count": 52,
   "id": "c733aefd-1515-429a-95fe-f83809cb1e32",
   "metadata": {},
   "outputs": [],
   "source": [
    "df.columns=['X','y','z']"
   ]
  },
  {
   "cell_type": "code",
   "execution_count": 54,
   "id": "8a53e1eb-bcc9-40de-b81f-a174f471be61",
   "metadata": {},
   "outputs": [
    {
     "data": {
      "text/html": [
       "<div>\n",
       "<style scoped>\n",
       "    .dataframe tbody tr th:only-of-type {\n",
       "        vertical-align: middle;\n",
       "    }\n",
       "\n",
       "    .dataframe tbody tr th {\n",
       "        vertical-align: top;\n",
       "    }\n",
       "\n",
       "    .dataframe thead th {\n",
       "        text-align: right;\n",
       "    }\n",
       "</style>\n",
       "<table border=\"1\" class=\"dataframe\">\n",
       "  <thead>\n",
       "    <tr style=\"text-align: right;\">\n",
       "      <th></th>\n",
       "      <th>X</th>\n",
       "      <th>y</th>\n",
       "      <th>z</th>\n",
       "    </tr>\n",
       "  </thead>\n",
       "  <tbody>\n",
       "    <tr>\n",
       "      <th>0</th>\n",
       "      <td>2.115098</td>\n",
       "      <td>-0.046244</td>\n",
       "      <td>1.0</td>\n",
       "    </tr>\n",
       "    <tr>\n",
       "      <th>1</th>\n",
       "      <td>0.882490</td>\n",
       "      <td>-0.075756</td>\n",
       "      <td>0.0</td>\n",
       "    </tr>\n",
       "    <tr>\n",
       "      <th>2</th>\n",
       "      <td>-0.055144</td>\n",
       "      <td>-0.037332</td>\n",
       "      <td>1.0</td>\n",
       "    </tr>\n",
       "    <tr>\n",
       "      <th>3</th>\n",
       "      <td>0.829545</td>\n",
       "      <td>-0.539321</td>\n",
       "      <td>1.0</td>\n",
       "    </tr>\n",
       "    <tr>\n",
       "      <th>4</th>\n",
       "      <td>2.112857</td>\n",
       "      <td>0.662084</td>\n",
       "      <td>1.0</td>\n",
       "    </tr>\n",
       "  </tbody>\n",
       "</table>\n",
       "</div>"
      ],
      "text/plain": [
       "          X         y    z\n",
       "0  2.115098 -0.046244  1.0\n",
       "1  0.882490 -0.075756  0.0\n",
       "2 -0.055144 -0.037332  1.0\n",
       "3  0.829545 -0.539321  1.0\n",
       "4  2.112857  0.662084  1.0"
      ]
     },
     "execution_count": 54,
     "metadata": {},
     "output_type": "execute_result"
    }
   ],
   "source": [
    "df.head()"
   ]
  },
  {
   "cell_type": "code",
   "execution_count": 56,
   "id": "72138e42-cfba-4ad4-b149-2031c8c2d600",
   "metadata": {},
   "outputs": [
    {
     "data": {
      "text/plain": [
       "<matplotlib.collections.PathCollection at 0x17cfa4119d0>"
      ]
     },
     "execution_count": 56,
     "metadata": {},
     "output_type": "execute_result"
    },
    {
     "data": {
      "image/png": "[encoded data removed]",
      "text/plain": [
       "<Figure size 640x480 with 1 Axes>"
      ]
     },
     "metadata": {},
     "output_type": "display_data"
    }
   ],
   "source": [
    "plt.scatter(df['X'],df['y'],c=df['z'])"
   ]
  },
  {
   "cell_type": "code",
   "execution_count": 57,
   "id": "ba7a6a2c-b283-4cb3-b246-738d6f4cb812",
   "metadata": {},
   "outputs": [],
   "source": [
    "X=df.iloc[:,0:2]\n",
    "y=df.iloc[:,-1]"
   ]
  },
  {
   "cell_type": "code",
   "execution_count": 58,
   "id": "fb71d277-6c04-4a9e-aaa2-e8a2801fc2e8",
   "metadata": {},
   "outputs": [],
   "source": [
    "import tensorflow as tf\n",
    "from tensorflow.keras import Sequential\n",
    "from tensorflow.keras.layers import Dense"
   ]
  },
  {
   "cell_type": "code",
   "execution_count": 59,
   "id": "2f358d13-339b-4098-927e-690a9b8856bc",
   "metadata": {},
   "outputs": [
    {
     "name": "stderr",
     "output_type": "stream",
     "text": [
      "C:\\Users\\PARAS\\anaconda3\\Lib\\site-packages\\keras\\src\\layers\\core\\dense.py:87: UserWarning: Do not pass an `input_shape`/`input_dim` argument to a layer. When using Sequential models, prefer using an `Input(shape)` object as the first layer in the model instead.\n",
      "  super().__init__(activity_regularizer=activity_regularizer, **kwargs)\n"
     ]
    },
    {
     "data": {
      "text/html": [
       "<pre style=\"white-space:pre;overflow-x:auto;line-height:normal;font-family:Menlo,'DejaVu Sans Mono',consolas,'Courier New',monospace\"><span style=\"font-weight: bold\">Model: \"sequential_2\"</span>\n",
       "</pre>\n"
      ],
      "text/plain": [
       "\u001b[1mModel: \"sequential_2\"\u001b[0m\n"
      ]
     },
     "metadata": {},
     "output_type": "display_data"
    },
    {
     "data": {
      "text/html": [
       "<pre style=\"white-space:pre;overflow-x:auto;line-height:normal;font-family:Menlo,'DejaVu Sans Mono',consolas,'Courier New',monospace\">┏━━━━━━━━━━━━━━━━━━━━━━━━━━━━━━━━━━━━━━┳━━━━━━━━━━━━━━━━━━━━━━━━━━━━━┳━━━━━━━━━━━━━━━━━┓\n",
       "┃<span style=\"font-weight: bold\"> Layer (type)                         </span>┃<span style=\"font-weight: bold\"> Output Shape                </span>┃<span style=\"font-weight: bold\">         Param # </span>┃\n",
       "┡━━━━━━━━━━━━━━━━━━━━━━━━━━━━━━━━━━━━━━╇━━━━━━━━━━━━━━━━━━━━━━━━━━━━━╇━━━━━━━━━━━━━━━━━┩\n",
       "│ dense_10 (<span style=\"color: #0087ff; text-decoration-color: #0087ff\">Dense</span>)                     │ (<span style=\"color: #00d7ff; text-decoration-color: #00d7ff\">None</span>, <span style=\"color: #00af00; text-decoration-color: #00af00\">10</span>)                  │              <span style=\"color: #00af00; text-decoration-color: #00af00\">30</span> │\n",
       "├──────────────────────────────────────┼─────────────────────────────┼─────────────────┤\n",
       "│ dense_11 (<span style=\"color: #0087ff; text-decoration-color: #0087ff\">Dense</span>)                     │ (<span style=\"color: #00d7ff; text-decoration-color: #00d7ff\">None</span>, <span style=\"color: #00af00; text-decoration-color: #00af00\">10</span>)                  │             <span style=\"color: #00af00; text-decoration-color: #00af00\">110</span> │\n",
       "├──────────────────────────────────────┼─────────────────────────────┼─────────────────┤\n",
       "│ dense_12 (<span style=\"color: #0087ff; text-decoration-color: #0087ff\">Dense</span>)                     │ (<span style=\"color: #00d7ff; text-decoration-color: #00d7ff\">None</span>, <span style=\"color: #00af00; text-decoration-color: #00af00\">10</span>)                  │             <span style=\"color: #00af00; text-decoration-color: #00af00\">110</span> │\n",
       "├──────────────────────────────────────┼─────────────────────────────┼─────────────────┤\n",
       "│ dense_13 (<span style=\"color: #0087ff; text-decoration-color: #0087ff\">Dense</span>)                     │ (<span style=\"color: #00d7ff; text-decoration-color: #00d7ff\">None</span>, <span style=\"color: #00af00; text-decoration-color: #00af00\">10</span>)                  │             <span style=\"color: #00af00; text-decoration-color: #00af00\">110</span> │\n",
       "├──────────────────────────────────────┼─────────────────────────────┼─────────────────┤\n",
       "│ dense_14 (<span style=\"color: #0087ff; text-decoration-color: #0087ff\">Dense</span>)                     │ (<span style=\"color: #00d7ff; text-decoration-color: #00d7ff\">None</span>, <span style=\"color: #00af00; text-decoration-color: #00af00\">1</span>)                   │              <span style=\"color: #00af00; text-decoration-color: #00af00\">11</span> │\n",
       "└──────────────────────────────────────┴─────────────────────────────┴─────────────────┘\n",
       "</pre>\n"
      ],
      "text/plain": [
       "┏━━━━━━━━━━━━━━━━━━━━━━━━━━━━━━━━━━━━━━┳━━━━━━━━━━━━━━━━━━━━━━━━━━━━━┳━━━━━━━━━━━━━━━━━┓\n",
       "┃\u001b[1m \u001b[0m\u001b[1mLayer (type)                        \u001b[0m\u001b[1m \u001b[0m┃\u001b[1m \u001b[0m\u001b[1mOutput Shape               \u001b[0m\u001b[1m \u001b[0m┃\u001b[1m \u001b[0m\u001b[1m        Param #\u001b[0m\u001b[1m \u001b[0m┃\n",
       "┡━━━━━━━━━━━━━━━━━━━━━━━━━━━━━━━━━━━━━━╇━━━━━━━━━━━━━━━━━━━━━━━━━━━━━╇━━━━━━━━━━━━━━━━━┩\n",
       "│ dense_10 (\u001b[38;5;33mDense\u001b[0m)                     │ (\u001b[38;5;45mNone\u001b[0m, \u001b[38;5;34m10\u001b[0m)                  │              \u001b[38;5;34m30\u001b[0m │\n",
       "├──────────────────────────────────────┼─────────────────────────────┼─────────────────┤\n",
       "│ dense_11 (\u001b[38;5;33mDense\u001b[0m)                     │ (\u001b[38;5;45mNone\u001b[0m, \u001b[38;5;34m10\u001b[0m)                  │             \u001b[38;5;34m110\u001b[0m │\n",
       "├──────────────────────────────────────┼─────────────────────────────┼─────────────────┤\n",
       "│ dense_12 (\u001b[38;5;33mDense\u001b[0m)                     │ (\u001b[38;5;45mNone\u001b[0m, \u001b[38;5;34m10\u001b[0m)                  │             \u001b[38;5;34m110\u001b[0m │\n",
       "├──────────────────────────────────────┼─────────────────────────────┼─────────────────┤\n",
       "│ dense_13 (\u001b[38;5;33mDense\u001b[0m)                     │ (\u001b[38;5;45mNone\u001b[0m, \u001b[38;5;34m10\u001b[0m)                  │             \u001b[38;5;34m110\u001b[0m │\n",
       "├──────────────────────────────────────┼─────────────────────────────┼─────────────────┤\n",
       "│ dense_14 (\u001b[38;5;33mDense\u001b[0m)                     │ (\u001b[38;5;45mNone\u001b[0m, \u001b[38;5;34m1\u001b[0m)                   │              \u001b[38;5;34m11\u001b[0m │\n",
       "└──────────────────────────────────────┴─────────────────────────────┴─────────────────┘\n"
      ]
     },
     "metadata": {},
     "output_type": "display_data"
    },
    {
     "data": {
      "text/html": [
       "<pre style=\"white-space:pre;overflow-x:auto;line-height:normal;font-family:Menlo,'DejaVu Sans Mono',consolas,'Courier New',monospace\"><span style=\"font-weight: bold\"> Total params: </span><span style=\"color: #00af00; text-decoration-color: #00af00\">371</span> (1.45 KB)\n",
       "</pre>\n"
      ],
      "text/plain": [
       "\u001b[1m Total params: \u001b[0m\u001b[38;5;34m371\u001b[0m (1.45 KB)\n"
      ]
     },
     "metadata": {},
     "output_type": "display_data"
    },
    {
     "data": {
      "text/html": [
       "<pre style=\"white-space:pre;overflow-x:auto;line-height:normal;font-family:Menlo,'DejaVu Sans Mono',consolas,'Courier New',monospace\"><span style=\"font-weight: bold\"> Trainable params: </span><span style=\"color: #00af00; text-decoration-color: #00af00\">371</span> (1.45 KB)\n",
       "</pre>\n"
      ],
      "text/plain": [
       "\u001b[1m Trainable params: \u001b[0m\u001b[38;5;34m371\u001b[0m (1.45 KB)\n"
      ]
     },
     "metadata": {},
     "output_type": "display_data"
    },
    {
     "data": {
      "text/html": [
       "<pre style=\"white-space:pre;overflow-x:auto;line-height:normal;font-family:Menlo,'DejaVu Sans Mono',consolas,'Courier New',monospace\"><span style=\"font-weight: bold\"> Non-trainable params: </span><span style=\"color: #00af00; text-decoration-color: #00af00\">0</span> (0.00 B)\n",
       "</pre>\n"
      ],
      "text/plain": [
       "\u001b[1m Non-trainable params: \u001b[0m\u001b[38;5;34m0\u001b[0m (0.00 B)\n"
      ]
     },
     "metadata": {},
     "output_type": "display_data"
    }
   ],
   "source": [
    "model=Sequential()\n",
    "model.add(Dense(10,activation='relu',input_dim=2,kernel_initializer='he_normal'))\n",
    "model.add(Dense(10,kernel_initializer='he_normal'))\n",
    "model.add(Dense(10,kernel_initializer='he_normal'))\n",
    "model.add(Dense(10,kernel_initializer='he_normal'))\n",
    "model.add(Dense(1,kernel_initializer='he_normal'))\n",
    "\n",
    "model.summary()"
   ]
  },
  {
   "cell_type": "code",
   "execution_count": 61,
   "id": "d6164092-6921-443f-807c-85e18b1471dc",
   "metadata": {},
   "outputs": [
    {
     "data": {
      "text/plain": [
       "[array([[ 0.13836512,  0.16272613,  1.710787  ,  1.0655787 ,  0.10816475,\n",
       "         -0.8679273 ,  0.39051014,  0.6803727 ,  0.54776907,  0.20635483],\n",
       "        [ 0.83314216,  1.5618073 , -0.27991313,  0.669731  ,  0.80004805,\n",
       "         -0.4557716 , -0.80571747, -0.9331698 , -0.69424045,  0.30598596]],\n",
       "       dtype=float32),\n",
       " array([0., 0., 0., 0., 0., 0., 0., 0., 0., 0.], dtype=float32),\n",
       " array([[ 0.06898797,  0.32987612,  0.27210245, -0.23134224, -0.55883765,\n",
       "          0.22468182,  0.13714023,  0.27356625, -0.24810494,  0.4677658 ],\n",
       "        [ 0.40934965,  0.46932253, -0.20596337,  0.11645562, -0.10613569,\n",
       "         -0.23929222,  0.06607001, -0.49414885,  0.25919873, -0.27958572],\n",
       "        [-0.41065985, -0.7790808 , -0.24837552,  0.15896146, -0.12424318,\n",
       "         -0.26349548,  0.82777065,  0.76025134, -0.55200976, -0.43604144],\n",
       "        [-0.00334569, -0.47107637,  0.04371834, -0.38073105, -0.20868835,\n",
       "         -0.57768416,  0.06444253,  0.48716223, -0.39581448, -0.06377963],\n",
       "        [-0.65753525,  0.06995396, -0.47752565, -0.00465073, -0.82729137,\n",
       "         -0.08480892, -0.75365424,  0.27894458, -0.77212423,  0.12237065],\n",
       "        [ 0.4669654 ,  0.15399408,  0.22505133, -0.5208575 ,  0.04357685,\n",
       "         -0.29751357,  0.48502567,  0.07852921, -0.22011031,  0.99861383],\n",
       "        [ 0.05367962, -0.06526434,  0.62733525, -0.6727747 ,  0.6352792 ,\n",
       "          0.75150573,  0.0426296 ,  0.6351603 , -0.3222702 , -0.13417329],\n",
       "        [-0.00118632, -0.8603581 ,  0.08615545,  0.62002695,  0.5669904 ,\n",
       "          0.54252476,  0.29504153,  0.40449598, -0.5480045 , -0.20099185],\n",
       "        [-0.02658221, -0.4538643 ,  0.66277677,  0.31253275, -0.81046593,\n",
       "         -0.00306   , -0.46385083,  0.3017106 ,  0.90451205, -0.48112848],\n",
       "        [-0.32414237,  1.0012748 ,  0.18615426, -0.10737605, -0.00291658,\n",
       "          0.8442775 ,  0.09900552,  0.6503616 , -0.5323073 ,  0.09898891]],\n",
       "       dtype=float32),\n",
       " array([0., 0., 0., 0., 0., 0., 0., 0., 0., 0.], dtype=float32),\n",
       " array([[-0.58670413, -0.12436705, -0.0719047 , -0.07003117,  0.53988314,\n",
       "         -0.11221451,  0.17609045,  0.7049389 , -0.06401762,  0.12672772],\n",
       "        [ 0.5497754 ,  0.15944666,  0.710824  ,  0.1148385 , -0.6602956 ,\n",
       "          0.08882891, -0.44107   , -0.14771213, -0.07531296, -0.4843057 ],\n",
       "        [ 0.2872236 , -0.44780752, -0.02341878,  0.547996  , -0.6369549 ,\n",
       "         -0.44654164,  0.5088371 ,  0.37483796, -0.24108905, -0.89870983],\n",
       "        [ 0.8009145 , -0.90230316,  0.8780205 ,  0.23434716,  0.7176556 ,\n",
       "          0.1863254 ,  0.39152896,  0.23346172, -0.50660735,  0.3714031 ],\n",
       "        [-0.3101491 , -0.28851697, -0.4522703 ,  0.12139118,  0.22443525,\n",
       "         -0.25614515,  0.03099092,  0.34205654, -0.6326632 ,  0.7900724 ],\n",
       "        [ 0.30496112,  0.41347086, -0.6987982 , -0.12592922,  0.20139459,\n",
       "          0.00403586, -0.2062568 , -0.21523263, -0.50054777,  0.31525707],\n",
       "        [ 0.29532343, -0.25443578,  0.10019122, -0.34378874, -0.9694563 ,\n",
       "         -0.09273726,  0.81422967,  0.41408557, -0.09617531, -0.09497992],\n",
       "        [ 0.0746579 ,  0.11079306,  0.39676443, -0.42322084, -0.07512486,\n",
       "          0.29151672, -0.9409881 , -0.28583363,  0.34836665,  0.38081917],\n",
       "        [ 0.02119277, -0.7916335 , -0.7149816 ,  0.68087023,  0.12139025,\n",
       "         -0.28115827,  0.59159935, -0.13838334,  0.6805278 , -0.28653523],\n",
       "        [-0.16084403, -0.231212  , -0.74722576, -0.5202899 ,  0.29548338,\n",
       "          0.04424076,  0.79560906,  0.00198439,  0.3026342 ,  0.95347303]],\n",
       "       dtype=float32),\n",
       " array([0., 0., 0., 0., 0., 0., 0., 0., 0., 0.], dtype=float32),\n",
       " array([[-0.8042544 , -0.50021845, -0.16158558,  0.3530072 ,  0.4084829 ,\n",
       "         -0.20928857,  0.05184119,  0.11094487,  0.33681312, -0.16903757],\n",
       "        [ 0.3949933 ,  0.0722895 , -0.13779865,  0.3961093 , -0.24284832,\n",
       "         -0.08492123, -0.20355332,  0.18762484, -0.01606499, -0.21990494],\n",
       "        [ 0.02394945, -0.3213056 , -0.49436003,  0.24582388, -0.02096792,\n",
       "          0.6254144 ,  0.25593072,  0.31336126, -0.533167  , -0.21507058],\n",
       "        [ 0.12079763,  0.30170482,  0.27301747, -0.19119383,  0.9960059 ,\n",
       "         -0.20974483, -0.14079481, -0.38795373,  0.58238846, -0.9331778 ],\n",
       "        [ 0.78519255,  0.07804266,  0.6829579 , -0.8115031 ,  0.43852955,\n",
       "         -0.14404082, -0.02785648, -0.35520014,  0.20890579, -0.23142214],\n",
       "        [-0.22936463,  0.67658484,  0.04520296, -0.9824456 , -0.29988793,\n",
       "         -0.4142415 ,  0.04026026, -0.09615202, -0.560748  ,  0.7243457 ],\n",
       "        [-0.5387642 , -0.3803462 ,  0.61984277,  0.6453144 ,  0.6543319 ,\n",
       "         -0.08962124, -0.06722857, -0.0619431 ,  0.33438948, -0.83840907],\n",
       "        [ 0.48731038,  0.03153634,  0.33108184, -0.25485104,  0.48723698,\n",
       "         -0.35644373,  0.10940775, -0.225671  ,  0.18294942,  0.11618135],\n",
       "        [ 0.18822894, -0.501654  , -0.54397637, -0.32991514, -0.4219986 ,\n",
       "          0.7691217 , -0.51197857,  0.45391756, -0.19482693, -0.19695744],\n",
       "        [-0.34738836,  0.4002517 , -0.05907274, -0.6331853 ,  0.5470794 ,\n",
       "         -0.03893925,  0.16315013, -0.02227395, -0.45338857,  0.4648014 ]],\n",
       "       dtype=float32),\n",
       " array([0., 0., 0., 0., 0., 0., 0., 0., 0., 0.], dtype=float32),\n",
       " array([[-0.09469803],\n",
       "        [-0.337638  ],\n",
       "        [-0.2622159 ],\n",
       "        [-0.80485964],\n",
       "        [-0.7177613 ],\n",
       "        [ 0.56620246],\n",
       "        [-0.66041636],\n",
       "        [-0.01204825],\n",
       "        [-0.24751617],\n",
       "        [-0.25917393]], dtype=float32),\n",
       " array([0.], dtype=float32)]"
      ]
     },
     "execution_count": 61,
     "metadata": {},
     "output_type": "execute_result"
    }
   ],
   "source": [
    "model.get_weights()"
   ]
  },
  {
   "cell_type": "code",
   "execution_count": 62,
   "id": "5ca2aa3d-d78d-4708-a6ea-ff3999f1b555",
   "metadata": {},
   "outputs": [],
   "source": [
    "initial_weights=model.get_weights()"
   ]
  },
  {
   "cell_type": "code",
   "execution_count": 64,
   "id": "15cb2ec4-5d46-464e-a304-a3253050d2bf",
   "metadata": {},
   "outputs": [],
   "source": [
    "model.set_weights(initial_weights)"
   ]
  },
  {
   "cell_type": "code",
   "execution_count": 66,
   "id": "42fa50bd-2b37-45fb-965f-5c6d14b67334",
   "metadata": {},
   "outputs": [
    {
     "data": {
      "text/plain": [
       "[array([[ 0.13836512,  0.16272613,  1.710787  ,  1.0655787 ,  0.10816475,\n",
       "         -0.8679273 ,  0.39051014,  0.6803727 ,  0.54776907,  0.20635483],\n",
       "        [ 0.83314216,  1.5618073 , -0.27991313,  0.669731  ,  0.80004805,\n",
       "         -0.4557716 , -0.80571747, -0.9331698 , -0.69424045,  0.30598596]],\n",
       "       dtype=float32),\n",
       " array([0., 0., 0., 0., 0., 0., 0., 0., 0., 0.], dtype=float32),\n",
       " array([[ 0.06898797,  0.32987612,  0.27210245, -0.23134224, -0.55883765,\n",
       "          0.22468182,  0.13714023,  0.27356625, -0.24810494,  0.4677658 ],\n",
       "        [ 0.40934965,  0.46932253, -0.20596337,  0.11645562, -0.10613569,\n",
       "         -0.23929222,  0.06607001, -0.49414885,  0.25919873, -0.27958572],\n",
       "        [-0.41065985, -0.7790808 , -0.24837552,  0.15896146, -0.12424318,\n",
       "         -0.26349548,  0.82777065,  0.76025134, -0.55200976, -0.43604144],\n",
       "        [-0.00334569, -0.47107637,  0.04371834, -0.38073105, -0.20868835,\n",
       "         -0.57768416,  0.06444253,  0.48716223, -0.39581448, -0.06377963],\n",
       "        [-0.65753525,  0.06995396, -0.47752565, -0.00465073, -0.82729137,\n",
       "         -0.08480892, -0.75365424,  0.27894458, -0.77212423,  0.12237065],\n",
       "        [ 0.4669654 ,  0.15399408,  0.22505133, -0.5208575 ,  0.04357685,\n",
       "         -0.29751357,  0.48502567,  0.07852921, -0.22011031,  0.99861383],\n",
       "        [ 0.05367962, -0.06526434,  0.62733525, -0.6727747 ,  0.6352792 ,\n",
       "          0.75150573,  0.0426296 ,  0.6351603 , -0.3222702 , -0.13417329],\n",
       "        [-0.00118632, -0.8603581 ,  0.08615545,  0.62002695,  0.5669904 ,\n",
       "          0.54252476,  0.29504153,  0.40449598, -0.5480045 , -0.20099185],\n",
       "        [-0.02658221, -0.4538643 ,  0.66277677,  0.31253275, -0.81046593,\n",
       "         -0.00306   , -0.46385083,  0.3017106 ,  0.90451205, -0.48112848],\n",
       "        [-0.32414237,  1.0012748 ,  0.18615426, -0.10737605, -0.00291658,\n",
       "          0.8442775 ,  0.09900552,  0.6503616 , -0.5323073 ,  0.09898891]],\n",
       "       dtype=float32),\n",
       " array([0., 0., 0., 0., 0., 0., 0., 0., 0., 0.], dtype=float32),\n",
       " array([[-0.58670413, -0.12436705, -0.0719047 , -0.07003117,  0.53988314,\n",
       "         -0.11221451,  0.17609045,  0.7049389 , -0.06401762,  0.12672772],\n",
       "        [ 0.5497754 ,  0.15944666,  0.710824  ,  0.1148385 , -0.6602956 ,\n",
       "          0.08882891, -0.44107   , -0.14771213, -0.07531296, -0.4843057 ],\n",
       "        [ 0.2872236 , -0.44780752, -0.02341878,  0.547996  , -0.6369549 ,\n",
       "         -0.44654164,  0.5088371 ,  0.37483796, -0.24108905, -0.89870983],\n",
       "        [ 0.8009145 , -0.90230316,  0.8780205 ,  0.23434716,  0.7176556 ,\n",
       "          0.1863254 ,  0.39152896,  0.23346172, -0.50660735,  0.3714031 ],\n",
       "        [-0.3101491 , -0.28851697, -0.4522703 ,  0.12139118,  0.22443525,\n",
       "         -0.25614515,  0.03099092,  0.34205654, -0.6326632 ,  0.7900724 ],\n",
       "        [ 0.30496112,  0.41347086, -0.6987982 , -0.12592922,  0.20139459,\n",
       "          0.00403586, -0.2062568 , -0.21523263, -0.50054777,  0.31525707],\n",
       "        [ 0.29532343, -0.25443578,  0.10019122, -0.34378874, -0.9694563 ,\n",
       "         -0.09273726,  0.81422967,  0.41408557, -0.09617531, -0.09497992],\n",
       "        [ 0.0746579 ,  0.11079306,  0.39676443, -0.42322084, -0.07512486,\n",
       "          0.29151672, -0.9409881 , -0.28583363,  0.34836665,  0.38081917],\n",
       "        [ 0.02119277, -0.7916335 , -0.7149816 ,  0.68087023,  0.12139025,\n",
       "         -0.28115827,  0.59159935, -0.13838334,  0.6805278 , -0.28653523],\n",
       "        [-0.16084403, -0.231212  , -0.74722576, -0.5202899 ,  0.29548338,\n",
       "          0.04424076,  0.79560906,  0.00198439,  0.3026342 ,  0.95347303]],\n",
       "       dtype=float32),\n",
       " array([0., 0., 0., 0., 0., 0., 0., 0., 0., 0.], dtype=float32),\n",
       " array([[-0.8042544 , -0.50021845, -0.16158558,  0.3530072 ,  0.4084829 ,\n",
       "         -0.20928857,  0.05184119,  0.11094487,  0.33681312, -0.16903757],\n",
       "        [ 0.3949933 ,  0.0722895 , -0.13779865,  0.3961093 , -0.24284832,\n",
       "         -0.08492123, -0.20355332,  0.18762484, -0.01606499, -0.21990494],\n",
       "        [ 0.02394945, -0.3213056 , -0.49436003,  0.24582388, -0.02096792,\n",
       "          0.6254144 ,  0.25593072,  0.31336126, -0.533167  , -0.21507058],\n",
       "        [ 0.12079763,  0.30170482,  0.27301747, -0.19119383,  0.9960059 ,\n",
       "         -0.20974483, -0.14079481, -0.38795373,  0.58238846, -0.9331778 ],\n",
       "        [ 0.78519255,  0.07804266,  0.6829579 , -0.8115031 ,  0.43852955,\n",
       "         -0.14404082, -0.02785648, -0.35520014,  0.20890579, -0.23142214],\n",
       "        [-0.22936463,  0.67658484,  0.04520296, -0.9824456 , -0.29988793,\n",
       "         -0.4142415 ,  0.04026026, -0.09615202, -0.560748  ,  0.7243457 ],\n",
       "        [-0.5387642 , -0.3803462 ,  0.61984277,  0.6453144 ,  0.6543319 ,\n",
       "         -0.08962124, -0.06722857, -0.0619431 ,  0.33438948, -0.83840907],\n",
       "        [ 0.48731038,  0.03153634,  0.33108184, -0.25485104,  0.48723698,\n",
       "         -0.35644373,  0.10940775, -0.225671  ,  0.18294942,  0.11618135],\n",
       "        [ 0.18822894, -0.501654  , -0.54397637, -0.32991514, -0.4219986 ,\n",
       "          0.7691217 , -0.51197857,  0.45391756, -0.19482693, -0.19695744],\n",
       "        [-0.34738836,  0.4002517 , -0.05907274, -0.6331853 ,  0.5470794 ,\n",
       "         -0.03893925,  0.16315013, -0.02227395, -0.45338857,  0.4648014 ]],\n",
       "       dtype=float32),\n",
       " array([0., 0., 0., 0., 0., 0., 0., 0., 0., 0.], dtype=float32),\n",
       " array([[-0.09469803],\n",
       "        [-0.337638  ],\n",
       "        [-0.2622159 ],\n",
       "        [-0.80485964],\n",
       "        [-0.7177613 ],\n",
       "        [ 0.56620246],\n",
       "        [-0.66041636],\n",
       "        [-0.01204825],\n",
       "        [-0.24751617],\n",
       "        [-0.25917393]], dtype=float32),\n",
       " array([0.], dtype=float32)]"
      ]
     },
     "execution_count": 66,
     "metadata": {},
     "output_type": "execute_result"
    }
   ],
   "source": [
    "model.get_weights()"
   ]
  },
  {
   "cell_type": "code",
   "execution_count": 67,
   "id": "c2bd24b0-2806-4ffa-986b-6530f46f58cd",
   "metadata": {},
   "outputs": [],
   "source": [
    "initial_weights[0]=np.random.randn(2,10)*np.sqrt(1/2)\n",
    "initial_weights[1]=np.zeros(model.get_weights()[1].shape)\n",
    "initial_weights[2]=np.random.randn(10,10)*np.sqrt(1/10)\n",
    "initial_weights[3]=np.zeros(model.get_weights()[3].shape)\n",
    "initial_weights[4]=np.random.randn(10,10)*np.sqrt(1/10)\n",
    "initial_weights[5]=np.zeros(model.get_weights()[5].shape)\n",
    "initial_weights[6]=np.random.randn(10,10)*np.sqrt(1/10)\n",
    "initial_weights[7]=np.zeros(model.get_weights()[7].shape)\n",
    "initial_weights[8]=np.random.randn(10,1)*np.sqrt(1/9)\n",
    "initial_weights[9]=np.zeros(model.get_weights()[9].shape)\n"
   ]
  },
  {
   "cell_type": "code",
   "execution_count": 68,
   "id": "52cb111c-cb8a-4928-8b71-7f6be43e44ca",
   "metadata": {},
   "outputs": [],
   "source": [
    "model.set_weights(initial_weights)"
   ]
  },
  {
   "cell_type": "code",
   "execution_count": 70,
   "id": "3da997bc-9ce0-4f21-9d2f-0dbd66994918",
   "metadata": {},
   "outputs": [
    {
     "data": {
      "text/plain": [
       "[array([[ 0.45097563, -0.43780422, -0.74044865,  0.6735342 , -0.4230143 ,\n",
       "          0.49066946,  0.18636625, -0.20550641, -0.80174243, -0.85307604],\n",
       "        [-0.86687374,  0.34311277, -1.4861951 ,  0.09018924, -0.5427339 ,\n",
       "          0.3139161 , -0.47339836, -0.00438394,  0.5572065 , -0.94917905]],\n",
       "       dtype=float32),\n",
       " array([0., 0., 0., 0., 0., 0., 0., 0., 0., 0.], dtype=float32),\n",
       " array([[ 0.24126057,  0.29030412,  0.42208523, -0.7596362 , -0.31395125,\n",
       "         -0.07376335,  0.19849774,  0.16567929, -0.03509366,  0.03740102],\n",
       "        [-0.30799356,  0.36470702, -0.49323988, -0.05844793,  0.44866133,\n",
       "          0.12850206, -0.09935936,  0.11361248, -0.48842493, -0.24591725],\n",
       "        [-0.26568845, -0.14947952,  0.42046973,  0.0931752 ,  0.29359496,\n",
       "         -0.20900181,  0.18015653, -0.37709293, -0.02018208,  0.58898515],\n",
       "        [ 0.33686638,  0.1652385 ,  0.19168638, -0.45420894,  0.07546213,\n",
       "         -0.6856402 , -0.08508008, -0.4464487 , -0.25951287, -0.33391973],\n",
       "        [ 0.05888484,  0.1216405 , -0.12742059,  0.11270495,  0.36870065,\n",
       "          0.50739485, -0.11262368,  0.444185  , -1.0067351 ,  0.05390974],\n",
       "        [ 0.19798027,  0.13304327, -0.07428003,  0.2002206 ,  0.00984217,\n",
       "          0.3682431 ,  0.27333906, -0.29749137, -0.03939876,  0.40689266],\n",
       "        [ 0.3733558 , -0.06656722,  0.18993467,  0.3548318 , -0.27326936,\n",
       "          0.08890829, -0.5756043 ,  0.7457781 , -0.41500497, -0.18212765],\n",
       "        [-0.05855703, -0.313275  , -0.18738513,  0.24600224, -0.15736595,\n",
       "          0.0733836 , -0.07397117,  0.47834545,  0.01946183,  0.5214228 ],\n",
       "        [-0.05937234, -0.3079351 ,  0.03581394, -0.2806471 ,  0.16000815,\n",
       "          0.15182643,  0.2501661 ,  0.03154696, -0.10312836,  0.08651723],\n",
       "        [ 0.27553403, -0.01407439, -0.1146815 ,  0.19085005,  0.06189663,\n",
       "          0.09585237,  0.52826005,  0.35792872, -0.16995732, -0.06660091]],\n",
       "       dtype=float32),\n",
       " array([0., 0., 0., 0., 0., 0., 0., 0., 0., 0.], dtype=float32),\n",
       " array([[-0.14511138, -0.01525996, -0.16506562,  0.5510452 , -0.10770574,\n",
       "         -0.5520984 ,  0.10111395,  0.25929344, -0.06117212,  0.5211094 ],\n",
       "        [-0.3589736 ,  0.06116123, -0.25806412, -0.35638785,  0.4310923 ,\n",
       "          0.3216479 , -0.05727997,  0.132882  ,  0.18315332,  0.5922857 ],\n",
       "        [-0.08565149, -0.12575102, -0.26013002, -0.23164192, -0.33822018,\n",
       "          0.11741734,  0.5112502 ,  0.39418504,  0.53398156,  0.23834689],\n",
       "        [-0.16215585, -0.01382022, -0.12058061,  0.26007134, -0.12258703,\n",
       "          0.07857347, -0.58982855,  0.22573958,  0.5318184 ,  0.8550975 ],\n",
       "        [-0.2705963 , -0.1115033 ,  0.7866655 , -0.05334041,  0.12239518,\n",
       "          0.3077821 ,  0.51108253, -0.2472371 , -0.00970701,  0.43502197],\n",
       "        [-0.80357975,  0.21142748, -0.18047914, -0.09335627, -0.8862645 ,\n",
       "          0.16191638,  0.16904029, -0.43743432,  0.0134153 ,  0.22851095],\n",
       "        [-0.45235324,  0.5731501 , -0.29245567,  0.3911215 , -0.6331423 ,\n",
       "          0.2625359 , -0.17209233, -0.03951156, -0.07373072,  0.1067368 ],\n",
       "        [-0.00767613,  0.40581328, -0.28501123, -0.20907141, -0.39696124,\n",
       "         -0.10502055, -0.9446701 , -0.2861435 ,  0.0479354 ,  0.3443653 ],\n",
       "        [-0.08176833,  0.12852377,  0.45482305,  0.20907554,  0.00866087,\n",
       "         -0.03021513, -0.00635776, -0.1393263 , -0.01792023,  0.31696415],\n",
       "        [-0.54912794,  0.05247562, -0.07588719, -0.59895533, -0.00783163,\n",
       "         -0.38049412,  0.01550653,  0.10235689, -0.6030002 ,  0.05200152]],\n",
       "       dtype=float32),\n",
       " array([0., 0., 0., 0., 0., 0., 0., 0., 0., 0.], dtype=float32),\n",
       " array([[ 0.0445821 ,  0.41236943,  0.34373105,  0.28280184,  0.12054553,\n",
       "         -0.2722268 ,  0.3401865 ,  0.07393403, -0.23242971, -0.39920866],\n",
       "        [-0.380753  , -0.12661152,  0.01487718,  0.4983294 , -0.03445235,\n",
       "         -0.20539412, -0.06338509, -0.10461299,  0.16374029,  0.78439254],\n",
       "        [ 0.3251685 ,  0.03948222, -0.18715186, -0.21558414, -0.6124279 ,\n",
       "          0.7289755 ,  0.18265413,  0.07120468,  0.0065831 ,  0.15539736],\n",
       "        [-0.150234  ,  0.4110041 , -0.29488292,  0.4238481 , -0.19240963,\n",
       "          0.328325  , -0.6139748 , -0.40265545, -0.10808463, -0.39509726],\n",
       "        [ 0.3252155 ,  0.29929778, -0.8827525 , -0.3633869 , -0.40092742,\n",
       "         -0.3698196 ,  0.609487  ,  0.17778051, -0.31313664, -0.38299456],\n",
       "        [-0.6527288 , -0.30777112,  0.31537303, -0.13311575, -0.35031134,\n",
       "          0.9397388 ,  0.13612771,  0.43973556,  1.0822875 , -0.48023063],\n",
       "        [-0.15360598, -0.42032585,  0.02798782,  0.18124075,  0.15892148,\n",
       "         -0.1592391 , -0.01519078, -0.3478463 ,  0.14136632, -0.25210625],\n",
       "        [ 0.06873082, -0.3501054 , -0.14286248, -0.25226855, -0.44196898,\n",
       "         -0.9375653 ,  0.29941356, -0.4340969 , -0.21067336, -0.4162939 ],\n",
       "        [ 0.1714297 ,  0.18779697,  0.22467993,  0.14290671,  0.07526288,\n",
       "          0.02610373,  0.37482285,  0.2919962 , -0.29760593, -0.31987706],\n",
       "        [-0.05158098,  0.3329969 , -0.42269042, -0.06913561,  0.01747943,\n",
       "          0.62517947,  0.25191167, -0.0523258 ,  0.16819747, -0.5821059 ]],\n",
       "       dtype=float32),\n",
       " array([0., 0., 0., 0., 0., 0., 0., 0., 0., 0.], dtype=float32),\n",
       " array([[ 0.28911963],\n",
       "        [ 0.05380277],\n",
       "        [ 0.16699483],\n",
       "        [-0.41125488],\n",
       "        [-0.03938386],\n",
       "        [ 0.6642869 ],\n",
       "        [ 0.4407405 ],\n",
       "        [ 0.11453508],\n",
       "        [-0.45768407],\n",
       "        [-0.2236503 ]], dtype=float32),\n",
       " array([0.], dtype=float32)]"
      ]
     },
     "execution_count": 70,
     "metadata": {},
     "output_type": "execute_result"
    }
   ],
   "source": [
    "model.get_weights()"
   ]
  },
  {
   "cell_type": "code",
   "execution_count": 74,
   "id": "b9c1b73b-e2f9-4211-bac5-08b5b2440291",
   "metadata": {},
   "outputs": [
    {
     "name": "stdout",
     "output_type": "stream",
     "text": [
      "Epoch 1/100\n",
      "\u001b[1m3/3\u001b[0m \u001b[32m━━━━━━━━━━━━━━━━━━━━\u001b[0m\u001b[37m\u001b[0m \u001b[1m1s\u001b[0m 85ms/step - accuracy: 0.4734 - loss: 8.4878 - val_accuracy: 0.5000 - val_loss: 8.0590\n",
      "Epoch 2/100\n",
      "\u001b[1m3/3\u001b[0m \u001b[32m━━━━━━━━━━━━━━━━━━━━\u001b[0m\u001b[37m\u001b[0m \u001b[1m0s\u001b[0m 26ms/step - accuracy: 0.4617 - loss: 8.6767 - val_accuracy: 0.5000 - val_loss: 8.0590\n",
      "Epoch 3/100\n",
      "\u001b[1m3/3\u001b[0m \u001b[32m━━━━━━━━━━━━━━━━━━━━\u001b[0m\u001b[37m\u001b[0m \u001b[1m0s\u001b[0m 27ms/step - accuracy: 0.4890 - loss: 8.2360 - val_accuracy: 0.5000 - val_loss: 8.0590\n",
      "Epoch 4/100\n",
      "\u001b[1m3/3\u001b[0m \u001b[32m━━━━━━━━━━━━━━━━━━━━\u001b[0m\u001b[37m\u001b[0m \u001b[1m0s\u001b[0m 31ms/step - accuracy: 0.5281 - loss: 7.6064 - val_accuracy: 0.5000 - val_loss: 8.0590\n",
      "Epoch 5/100\n",
      "\u001b[1m3/3\u001b[0m \u001b[32m━━━━━━━━━━━━━━━━━━━━\u001b[0m\u001b[37m\u001b[0m \u001b[1m0s\u001b[0m 42ms/step - accuracy: 0.4656 - loss: 8.6137 - val_accuracy: 0.5000 - val_loss: 8.0590\n",
      "Epoch 6/100\n",
      "\u001b[1m3/3\u001b[0m \u001b[32m━━━━━━━━━━━━━━━━━━━━\u001b[0m\u001b[37m\u001b[0m \u001b[1m0s\u001b[0m 40ms/step - accuracy: 0.4851 - loss: 8.2989 - val_accuracy: 0.5000 - val_loss: 8.0590\n",
      "Epoch 7/100\n",
      "\u001b[1m3/3\u001b[0m \u001b[32m━━━━━━━━━━━━━━━━━━━━\u001b[0m\u001b[37m\u001b[0m \u001b[1m0s\u001b[0m 33ms/step - accuracy: 0.4929 - loss: 8.1730 - val_accuracy: 0.5000 - val_loss: 8.0590\n",
      "Epoch 8/100\n",
      "\u001b[1m3/3\u001b[0m \u001b[32m━━━━━━━━━━━━━━━━━━━━\u001b[0m\u001b[37m\u001b[0m \u001b[1m0s\u001b[0m 33ms/step - accuracy: 0.4851 - loss: 8.2989 - val_accuracy: 0.5000 - val_loss: 8.0590\n",
      "Epoch 9/100\n",
      "\u001b[1m3/3\u001b[0m \u001b[32m━━━━━━━━━━━━━━━━━━━━\u001b[0m\u001b[37m\u001b[0m \u001b[1m0s\u001b[0m 34ms/step - accuracy: 0.5437 - loss: 7.3545 - val_accuracy: 0.5000 - val_loss: 8.0590\n",
      "Epoch 10/100\n",
      "\u001b[1m3/3\u001b[0m \u001b[32m━━━━━━━━━━━━━━━━━━━━\u001b[0m\u001b[37m\u001b[0m \u001b[1m0s\u001b[0m 34ms/step - accuracy: 0.5398 - loss: 7.4175 - val_accuracy: 0.5000 - val_loss: 8.0590\n",
      "Epoch 11/100\n",
      "\u001b[1m3/3\u001b[0m \u001b[32m━━━━━━━━━━━━━━━━━━━━\u001b[0m\u001b[37m\u001b[0m \u001b[1m0s\u001b[0m 29ms/step - accuracy: 0.5086 - loss: 7.9212 - val_accuracy: 0.5000 - val_loss: 8.0590\n",
      "Epoch 12/100\n",
      "\u001b[1m3/3\u001b[0m \u001b[32m━━━━━━━━━━━━━━━━━━━━\u001b[0m\u001b[37m\u001b[0m \u001b[1m0s\u001b[0m 31ms/step - accuracy: 0.4968 - loss: 8.1101 - val_accuracy: 0.5000 - val_loss: 8.0590\n",
      "Epoch 13/100\n",
      "\u001b[1m3/3\u001b[0m \u001b[32m━━━━━━━━━━━━━━━━━━━━\u001b[0m\u001b[37m\u001b[0m \u001b[1m0s\u001b[0m 34ms/step - accuracy: 0.4812 - loss: 8.3619 - val_accuracy: 0.5000 - val_loss: 8.0590\n",
      "Epoch 14/100\n",
      "\u001b[1m3/3\u001b[0m \u001b[32m━━━━━━━━━━━━━━━━━━━━\u001b[0m\u001b[37m\u001b[0m \u001b[1m0s\u001b[0m 35ms/step - accuracy: 0.4851 - loss: 8.2989 - val_accuracy: 0.5000 - val_loss: 8.0590\n",
      "Epoch 15/100\n",
      "\u001b[1m3/3\u001b[0m \u001b[32m━━━━━━━━━━━━━━━━━━━━\u001b[0m\u001b[37m\u001b[0m \u001b[1m0s\u001b[0m 34ms/step - accuracy: 0.5046 - loss: 7.9841 - val_accuracy: 0.5000 - val_loss: 8.0590\n",
      "Epoch 16/100\n",
      "\u001b[1m3/3\u001b[0m \u001b[32m━━━━━━━━━━━━━━━━━━━━\u001b[0m\u001b[37m\u001b[0m \u001b[1m0s\u001b[0m 35ms/step - accuracy: 0.4773 - loss: 8.4249 - val_accuracy: 0.5000 - val_loss: 8.0590\n",
      "Epoch 17/100\n",
      "\u001b[1m3/3\u001b[0m \u001b[32m━━━━━━━━━━━━━━━━━━━━\u001b[0m\u001b[37m\u001b[0m \u001b[1m0s\u001b[0m 37ms/step - accuracy: 0.5320 - loss: 7.5434 - val_accuracy: 0.5000 - val_loss: 8.0590\n",
      "Epoch 18/100\n",
      "\u001b[1m3/3\u001b[0m \u001b[32m━━━━━━━━━━━━━━━━━━━━\u001b[0m\u001b[37m\u001b[0m \u001b[1m0s\u001b[0m 33ms/step - accuracy: 0.4929 - loss: 8.1730 - val_accuracy: 0.5000 - val_loss: 8.0590\n",
      "Epoch 19/100\n",
      "\u001b[1m3/3\u001b[0m \u001b[32m━━━━━━━━━━━━━━━━━━━━\u001b[0m\u001b[37m\u001b[0m \u001b[1m0s\u001b[0m 29ms/step - accuracy: 0.5242 - loss: 7.6693 - val_accuracy: 0.5000 - val_loss: 8.0590\n",
      "Epoch 20/100\n",
      "\u001b[1m3/3\u001b[0m \u001b[32m━━━━━━━━━━━━━━━━━━━━\u001b[0m\u001b[37m\u001b[0m \u001b[1m0s\u001b[0m 34ms/step - accuracy: 0.4578 - loss: 8.7397 - val_accuracy: 0.5000 - val_loss: 8.0590\n",
      "Epoch 21/100\n",
      "\u001b[1m3/3\u001b[0m \u001b[32m━━━━━━━━━━━━━━━━━━━━\u001b[0m\u001b[37m\u001b[0m \u001b[1m0s\u001b[0m 29ms/step - accuracy: 0.4812 - loss: 8.3619 - val_accuracy: 0.5000 - val_loss: 8.0590\n",
      "Epoch 22/100\n",
      "\u001b[1m3/3\u001b[0m \u001b[32m━━━━━━━━━━━━━━━━━━━━\u001b[0m\u001b[37m\u001b[0m \u001b[1m0s\u001b[0m 30ms/step - accuracy: 0.5007 - loss: 8.0471 - val_accuracy: 0.5000 - val_loss: 8.0590\n",
      "Epoch 23/100\n",
      "\u001b[1m3/3\u001b[0m \u001b[32m━━━━━━━━━━━━━━━━━━━━\u001b[0m\u001b[37m\u001b[0m \u001b[1m0s\u001b[0m 32ms/step - accuracy: 0.4851 - loss: 8.2989 - val_accuracy: 0.5000 - val_loss: 8.0590\n",
      "Epoch 24/100\n",
      "\u001b[1m3/3\u001b[0m \u001b[32m━━━━━━━━━━━━━━━━━━━━\u001b[0m\u001b[37m\u001b[0m \u001b[1m0s\u001b[0m 29ms/step - accuracy: 0.4890 - loss: 8.2360 - val_accuracy: 0.5000 - val_loss: 8.0590\n",
      "Epoch 25/100\n",
      "\u001b[1m3/3\u001b[0m \u001b[32m━━━━━━━━━━━━━━━━━━━━\u001b[0m\u001b[37m\u001b[0m \u001b[1m0s\u001b[0m 30ms/step - accuracy: 0.4890 - loss: 8.2360 - val_accuracy: 0.5000 - val_loss: 8.0590\n",
      "Epoch 26/100\n",
      "\u001b[1m3/3\u001b[0m \u001b[32m━━━━━━━━━━━━━━━━━━━━\u001b[0m\u001b[37m\u001b[0m \u001b[1m0s\u001b[0m 35ms/step - accuracy: 0.5359 - loss: 7.4804 - val_accuracy: 0.5000 - val_loss: 8.0590\n",
      "Epoch 27/100\n",
      "\u001b[1m3/3\u001b[0m \u001b[32m━━━━━━━━━━━━━━━━━━━━\u001b[0m\u001b[37m\u001b[0m \u001b[1m0s\u001b[0m 33ms/step - accuracy: 0.4929 - loss: 8.1730 - val_accuracy: 0.5000 - val_loss: 8.0590\n",
      "Epoch 28/100\n",
      "\u001b[1m3/3\u001b[0m \u001b[32m━━━━━━━━━━━━━━━━━━━━\u001b[0m\u001b[37m\u001b[0m \u001b[1m0s\u001b[0m 28ms/step - accuracy: 0.4734 - loss: 8.4878 - val_accuracy: 0.5000 - val_loss: 8.0590\n",
      "Epoch 29/100\n",
      "\u001b[1m3/3\u001b[0m \u001b[32m━━━━━━━━━━━━━━━━━━━━\u001b[0m\u001b[37m\u001b[0m \u001b[1m0s\u001b[0m 29ms/step - accuracy: 0.5203 - loss: 7.7323 - val_accuracy: 0.5000 - val_loss: 8.0590\n",
      "Epoch 30/100\n",
      "\u001b[1m3/3\u001b[0m \u001b[32m━━━━━━━━━━━━━━━━━━━━\u001b[0m\u001b[37m\u001b[0m \u001b[1m0s\u001b[0m 30ms/step - accuracy: 0.4968 - loss: 8.1101 - val_accuracy: 0.5000 - val_loss: 8.0590\n",
      "Epoch 31/100\n",
      "\u001b[1m3/3\u001b[0m \u001b[32m━━━━━━━━━━━━━━━━━━━━\u001b[0m\u001b[37m\u001b[0m \u001b[1m0s\u001b[0m 31ms/step - accuracy: 0.5086 - loss: 7.9212 - val_accuracy: 0.5000 - val_loss: 8.0590\n",
      "Epoch 32/100\n",
      "\u001b[1m3/3\u001b[0m \u001b[32m━━━━━━━━━━━━━━━━━━━━\u001b[0m\u001b[37m\u001b[0m \u001b[1m0s\u001b[0m 30ms/step - accuracy: 0.5086 - loss: 7.9212 - val_accuracy: 0.5000 - val_loss: 8.0590\n",
      "Epoch 33/100\n",
      "\u001b[1m3/3\u001b[0m \u001b[32m━━━━━━━━━━━━━━━━━━━━\u001b[0m\u001b[37m\u001b[0m \u001b[1m0s\u001b[0m 27ms/step - accuracy: 0.4968 - loss: 8.1101 - val_accuracy: 0.5000 - val_loss: 8.0590\n",
      "Epoch 34/100\n",
      "\u001b[1m3/3\u001b[0m \u001b[32m━━━━━━━━━━━━━━━━━━━━\u001b[0m\u001b[37m\u001b[0m \u001b[1m0s\u001b[0m 31ms/step - accuracy: 0.5164 - loss: 7.7952 - val_accuracy: 0.5000 - val_loss: 8.0590\n",
      "Epoch 35/100\n",
      "\u001b[1m3/3\u001b[0m \u001b[32m━━━━━━━━━━━━━━━━━━━━\u001b[0m\u001b[37m\u001b[0m \u001b[1m0s\u001b[0m 37ms/step - accuracy: 0.4695 - loss: 8.5508 - val_accuracy: 0.5000 - val_loss: 8.0590\n",
      "Epoch 36/100\n",
      "\u001b[1m3/3\u001b[0m \u001b[32m━━━━━━━━━━━━━━━━━━━━\u001b[0m\u001b[37m\u001b[0m \u001b[1m0s\u001b[0m 31ms/step - accuracy: 0.4812 - loss: 8.3619 - val_accuracy: 0.5000 - val_loss: 8.0590\n",
      "Epoch 37/100\n",
      "\u001b[1m3/3\u001b[0m \u001b[32m━━━━━━━━━━━━━━━━━━━━\u001b[0m\u001b[37m\u001b[0m \u001b[1m0s\u001b[0m 33ms/step - accuracy: 0.5164 - loss: 7.7952 - val_accuracy: 0.5000 - val_loss: 8.0590\n",
      "Epoch 38/100\n",
      "\u001b[1m3/3\u001b[0m \u001b[32m━━━━━━━━━━━━━━━━━━━━\u001b[0m\u001b[37m\u001b[0m \u001b[1m0s\u001b[0m 30ms/step - accuracy: 0.5125 - loss: 7.8582 - val_accuracy: 0.5000 - val_loss: 8.0590\n",
      "Epoch 39/100\n",
      "\u001b[1m3/3\u001b[0m \u001b[32m━━━━━━━━━━━━━━━━━━━━\u001b[0m\u001b[37m\u001b[0m \u001b[1m0s\u001b[0m 32ms/step - accuracy: 0.5164 - loss: 7.7952 - val_accuracy: 0.5000 - val_loss: 8.0590\n",
      "Epoch 40/100\n",
      "\u001b[1m3/3\u001b[0m \u001b[32m━━━━━━━━━━━━━━━━━━━━\u001b[0m\u001b[37m\u001b[0m \u001b[1m0s\u001b[0m 29ms/step - accuracy: 0.5125 - loss: 7.8582 - val_accuracy: 0.5000 - val_loss: 8.0590\n",
      "Epoch 41/100\n",
      "\u001b[1m3/3\u001b[0m \u001b[32m━━━━━━━━━━━━━━━━━━━━\u001b[0m\u001b[37m\u001b[0m \u001b[1m0s\u001b[0m 31ms/step - accuracy: 0.4929 - loss: 8.1730 - val_accuracy: 0.5000 - val_loss: 8.0590\n",
      "Epoch 42/100\n",
      "\u001b[1m3/3\u001b[0m \u001b[32m━━━━━━━━━━━━━━━━━━━━\u001b[0m\u001b[37m\u001b[0m \u001b[1m0s\u001b[0m 26ms/step - accuracy: 0.4929 - loss: 8.1730 - val_accuracy: 0.5000 - val_loss: 8.0590\n",
      "Epoch 43/100\n",
      "\u001b[1m3/3\u001b[0m \u001b[32m━━━━━━━━━━━━━━━━━━━━\u001b[0m\u001b[37m\u001b[0m \u001b[1m0s\u001b[0m 28ms/step - accuracy: 0.4890 - loss: 8.2360 - val_accuracy: 0.5000 - val_loss: 8.0590\n",
      "Epoch 44/100\n",
      "\u001b[1m3/3\u001b[0m \u001b[32m━━━━━━━━━━━━━━━━━━━━\u001b[0m\u001b[37m\u001b[0m \u001b[1m0s\u001b[0m 27ms/step - accuracy: 0.5203 - loss: 7.7323 - val_accuracy: 0.5000 - val_loss: 8.0590\n",
      "Epoch 45/100\n",
      "\u001b[1m3/3\u001b[0m \u001b[32m━━━━━━━━━━━━━━━━━━━━\u001b[0m\u001b[37m\u001b[0m \u001b[1m0s\u001b[0m 55ms/step - accuracy: 0.4851 - loss: 8.2989 - val_accuracy: 0.5000 - val_loss: 8.0590\n",
      "Epoch 46/100\n",
      "\u001b[1m3/3\u001b[0m \u001b[32m━━━━━━━━━━━━━━━━━━━━\u001b[0m\u001b[37m\u001b[0m \u001b[1m0s\u001b[0m 40ms/step - accuracy: 0.5086 - loss: 7.9212 - val_accuracy: 0.5000 - val_loss: 8.0590\n",
      "Epoch 47/100\n",
      "\u001b[1m3/3\u001b[0m \u001b[32m━━━━━━━━━━━━━━━━━━━━\u001b[0m\u001b[37m\u001b[0m \u001b[1m0s\u001b[0m 29ms/step - accuracy: 0.5046 - loss: 7.9841 - val_accuracy: 0.5000 - val_loss: 8.0590\n",
      "Epoch 48/100\n",
      "\u001b[1m3/3\u001b[0m \u001b[32m━━━━━━━━━━━━━━━━━━━━\u001b[0m\u001b[37m\u001b[0m \u001b[1m0s\u001b[0m 38ms/step - accuracy: 0.4968 - loss: 8.1101 - val_accuracy: 0.5000 - val_loss: 8.0590\n",
      "Epoch 49/100\n",
      "\u001b[1m3/3\u001b[0m \u001b[32m━━━━━━━━━━━━━━━━━━━━\u001b[0m\u001b[37m\u001b[0m \u001b[1m0s\u001b[0m 34ms/step - accuracy: 0.4968 - loss: 8.1101 - val_accuracy: 0.5000 - val_loss: 8.0590\n",
      "Epoch 50/100\n",
      "\u001b[1m3/3\u001b[0m \u001b[32m━━━━━━━━━━━━━━━━━━━━\u001b[0m\u001b[37m\u001b[0m \u001b[1m0s\u001b[0m 33ms/step - accuracy: 0.4734 - loss: 8.4878 - val_accuracy: 0.5000 - val_loss: 8.0590\n",
      "Epoch 51/100\n",
      "\u001b[1m3/3\u001b[0m \u001b[32m━━━━━━━━━━━━━━━━━━━━\u001b[0m\u001b[37m\u001b[0m \u001b[1m0s\u001b[0m 30ms/step - accuracy: 0.4773 - loss: 8.4249 - val_accuracy: 0.5000 - val_loss: 8.0590\n",
      "Epoch 52/100\n",
      "\u001b[1m3/3\u001b[0m \u001b[32m━━━━━━━━━━━━━━━━━━━━\u001b[0m\u001b[37m\u001b[0m \u001b[1m0s\u001b[0m 27ms/step - accuracy: 0.5164 - loss: 7.7952 - val_accuracy: 0.5000 - val_loss: 8.0590\n",
      "Epoch 53/100\n",
      "\u001b[1m3/3\u001b[0m \u001b[32m━━━━━━━━━━━━━━━━━━━━\u001b[0m\u001b[37m\u001b[0m \u001b[1m0s\u001b[0m 29ms/step - accuracy: 0.4929 - loss: 8.1730 - val_accuracy: 0.5000 - val_loss: 8.0590\n",
      "Epoch 54/100\n",
      "\u001b[1m3/3\u001b[0m \u001b[32m━━━━━━━━━━━━━━━━━━━━\u001b[0m\u001b[37m\u001b[0m \u001b[1m0s\u001b[0m 32ms/step - accuracy: 0.4812 - loss: 8.3619 - val_accuracy: 0.5000 - val_loss: 8.0590\n",
      "Epoch 55/100\n",
      "\u001b[1m3/3\u001b[0m \u001b[32m━━━━━━━━━━━━━━━━━━━━\u001b[0m\u001b[37m\u001b[0m \u001b[1m0s\u001b[0m 33ms/step - accuracy: 0.5086 - loss: 7.9212 - val_accuracy: 0.5000 - val_loss: 8.0590\n",
      "Epoch 56/100\n",
      "\u001b[1m3/3\u001b[0m \u001b[32m━━━━━━━━━━━━━━━━━━━━\u001b[0m\u001b[37m\u001b[0m \u001b[1m0s\u001b[0m 30ms/step - accuracy: 0.4851 - loss: 8.2989 - val_accuracy: 0.5000 - val_loss: 8.0590\n",
      "Epoch 57/100\n",
      "\u001b[1m3/3\u001b[0m \u001b[32m━━━━━━━━━━━━━━━━━━━━\u001b[0m\u001b[37m\u001b[0m \u001b[1m0s\u001b[0m 26ms/step - accuracy: 0.4695 - loss: 8.5508 - val_accuracy: 0.5000 - val_loss: 8.0590\n",
      "Epoch 58/100\n",
      "\u001b[1m3/3\u001b[0m \u001b[32m━━━━━━━━━━━━━━━━━━━━\u001b[0m\u001b[37m\u001b[0m \u001b[1m0s\u001b[0m 28ms/step - accuracy: 0.4890 - loss: 8.2360 - val_accuracy: 0.5000 - val_loss: 8.0590\n",
      "Epoch 59/100\n",
      "\u001b[1m3/3\u001b[0m \u001b[32m━━━━━━━━━━━━━━━━━━━━\u001b[0m\u001b[37m\u001b[0m \u001b[1m0s\u001b[0m 26ms/step - accuracy: 0.4656 - loss: 8.6137 - val_accuracy: 0.5000 - val_loss: 8.0590\n",
      "Epoch 60/100\n",
      "\u001b[1m3/3\u001b[0m \u001b[32m━━━━━━━━━━━━━━━━━━━━\u001b[0m\u001b[37m\u001b[0m \u001b[1m0s\u001b[0m 29ms/step - accuracy: 0.5007 - loss: 8.0471 - val_accuracy: 0.5000 - val_loss: 8.0590\n",
      "Epoch 61/100\n",
      "\u001b[1m3/3\u001b[0m \u001b[32m━━━━━━━━━━━━━━━━━━━━\u001b[0m\u001b[37m\u001b[0m \u001b[1m0s\u001b[0m 27ms/step - accuracy: 0.4226 - loss: 9.3063 - val_accuracy: 0.5000 - val_loss: 8.0590\n",
      "Epoch 62/100\n",
      "\u001b[1m3/3\u001b[0m \u001b[32m━━━━━━━━━━━━━━━━━━━━\u001b[0m\u001b[37m\u001b[0m \u001b[1m0s\u001b[0m 29ms/step - accuracy: 0.4890 - loss: 8.2360 - val_accuracy: 0.5000 - val_loss: 8.0590\n",
      "Epoch 63/100\n",
      "\u001b[1m3/3\u001b[0m \u001b[32m━━━━━━━━━━━━━━━━━━━━\u001b[0m\u001b[37m\u001b[0m \u001b[1m0s\u001b[0m 30ms/step - accuracy: 0.4773 - loss: 8.4249 - val_accuracy: 0.5000 - val_loss: 8.0590\n",
      "Epoch 64/100\n",
      "\u001b[1m3/3\u001b[0m \u001b[32m━━━━━━━━━━━━━━━━━━━━\u001b[0m\u001b[37m\u001b[0m \u001b[1m0s\u001b[0m 97ms/step - accuracy: 0.4968 - loss: 8.1101 - val_accuracy: 0.5000 - val_loss: 8.0590\n",
      "Epoch 65/100\n",
      "\u001b[1m3/3\u001b[0m \u001b[32m━━━━━━━━━━━━━━━━━━━━\u001b[0m\u001b[37m\u001b[0m \u001b[1m0s\u001b[0m 33ms/step - accuracy: 0.5046 - loss: 7.9841 - val_accuracy: 0.5000 - val_loss: 8.0590\n",
      "Epoch 66/100\n",
      "\u001b[1m3/3\u001b[0m \u001b[32m━━━━━━━━━━━━━━━━━━━━\u001b[0m\u001b[37m\u001b[0m \u001b[1m0s\u001b[0m 29ms/step - accuracy: 0.4539 - loss: 8.8026 - val_accuracy: 0.5000 - val_loss: 8.0590\n",
      "Epoch 67/100\n",
      "\u001b[1m3/3\u001b[0m \u001b[32m━━━━━━━━━━━━━━━━━━━━\u001b[0m\u001b[37m\u001b[0m \u001b[1m0s\u001b[0m 28ms/step - accuracy: 0.4461 - loss: 8.9286 - val_accuracy: 0.5000 - val_loss: 8.0590\n",
      "Epoch 68/100\n",
      "\u001b[1m3/3\u001b[0m \u001b[32m━━━━━━━━━━━━━━━━━━━━\u001b[0m\u001b[37m\u001b[0m \u001b[1m0s\u001b[0m 25ms/step - accuracy: 0.4890 - loss: 8.2360 - val_accuracy: 0.5000 - val_loss: 8.0590\n",
      "Epoch 69/100\n",
      "\u001b[1m3/3\u001b[0m \u001b[32m━━━━━━━━━━━━━━━━━━━━\u001b[0m\u001b[37m\u001b[0m \u001b[1m0s\u001b[0m 24ms/step - accuracy: 0.4656 - loss: 8.6137 - val_accuracy: 0.5000 - val_loss: 8.0590\n",
      "Epoch 70/100\n",
      "\u001b[1m3/3\u001b[0m \u001b[32m━━━━━━━━━━━━━━━━━━━━\u001b[0m\u001b[37m\u001b[0m \u001b[1m0s\u001b[0m 27ms/step - accuracy: 0.4812 - loss: 8.3619 - val_accuracy: 0.5000 - val_loss: 8.0590\n",
      "Epoch 71/100\n",
      "\u001b[1m3/3\u001b[0m \u001b[32m━━━━━━━━━━━━━━━━━━━━\u001b[0m\u001b[37m\u001b[0m \u001b[1m0s\u001b[0m 26ms/step - accuracy: 0.4617 - loss: 8.6767 - val_accuracy: 0.5000 - val_loss: 8.0590\n",
      "Epoch 72/100\n",
      "\u001b[1m3/3\u001b[0m \u001b[32m━━━━━━━━━━━━━━━━━━━━\u001b[0m\u001b[37m\u001b[0m \u001b[1m0s\u001b[0m 27ms/step - accuracy: 0.4812 - loss: 8.3619 - val_accuracy: 0.5000 - val_loss: 8.0590\n",
      "Epoch 73/100\n",
      "\u001b[1m3/3\u001b[0m \u001b[32m━━━━━━━━━━━━━━━━━━━━\u001b[0m\u001b[37m\u001b[0m \u001b[1m0s\u001b[0m 26ms/step - accuracy: 0.4968 - loss: 8.1101 - val_accuracy: 0.5000 - val_loss: 8.0590\n",
      "Epoch 74/100\n",
      "\u001b[1m3/3\u001b[0m \u001b[32m━━━━━━━━━━━━━━━━━━━━\u001b[0m\u001b[37m\u001b[0m \u001b[1m0s\u001b[0m 24ms/step - accuracy: 0.5086 - loss: 7.9212 - val_accuracy: 0.5000 - val_loss: 8.0590\n",
      "Epoch 75/100\n",
      "\u001b[1m3/3\u001b[0m \u001b[32m━━━━━━━━━━━━━━━━━━━━\u001b[0m\u001b[37m\u001b[0m \u001b[1m0s\u001b[0m 23ms/step - accuracy: 0.5007 - loss: 8.0471 - val_accuracy: 0.5000 - val_loss: 8.0590\n",
      "Epoch 76/100\n",
      "\u001b[1m3/3\u001b[0m \u001b[32m━━━━━━━━━━━━━━━━━━━━\u001b[0m\u001b[37m\u001b[0m \u001b[1m0s\u001b[0m 27ms/step - accuracy: 0.5281 - loss: 7.6064 - val_accuracy: 0.5000 - val_loss: 8.0590\n",
      "Epoch 77/100\n",
      "\u001b[1m3/3\u001b[0m \u001b[32m━━━━━━━━━━━━━━━━━━━━\u001b[0m\u001b[37m\u001b[0m \u001b[1m0s\u001b[0m 24ms/step - accuracy: 0.4773 - loss: 8.4249 - val_accuracy: 0.5000 - val_loss: 8.0590\n",
      "Epoch 78/100\n",
      "\u001b[1m3/3\u001b[0m \u001b[32m━━━━━━━━━━━━━━━━━━━━\u001b[0m\u001b[37m\u001b[0m \u001b[1m0s\u001b[0m 26ms/step - accuracy: 0.5046 - loss: 7.9841 - val_accuracy: 0.5000 - val_loss: 8.0590\n",
      "Epoch 79/100\n",
      "\u001b[1m3/3\u001b[0m \u001b[32m━━━━━━━━━━━━━━━━━━━━\u001b[0m\u001b[37m\u001b[0m \u001b[1m0s\u001b[0m 34ms/step - accuracy: 0.4968 - loss: 8.1101 - val_accuracy: 0.5000 - val_loss: 8.0590\n",
      "Epoch 80/100\n",
      "\u001b[1m3/3\u001b[0m \u001b[32m━━━━━━━━━━━━━━━━━━━━\u001b[0m\u001b[37m\u001b[0m \u001b[1m0s\u001b[0m 27ms/step - accuracy: 0.4929 - loss: 8.1730 - val_accuracy: 0.5000 - val_loss: 8.0590\n",
      "Epoch 81/100\n",
      "\u001b[1m3/3\u001b[0m \u001b[32m━━━━━━━━━━━━━━━━━━━━\u001b[0m\u001b[37m\u001b[0m \u001b[1m0s\u001b[0m 25ms/step - accuracy: 0.4734 - loss: 8.4878 - val_accuracy: 0.5000 - val_loss: 8.0590\n",
      "Epoch 82/100\n",
      "\u001b[1m3/3\u001b[0m \u001b[32m━━━━━━━━━━━━━━━━━━━━\u001b[0m\u001b[37m\u001b[0m \u001b[1m0s\u001b[0m 25ms/step - accuracy: 0.4695 - loss: 8.5508 - val_accuracy: 0.5000 - val_loss: 8.0590\n",
      "Epoch 83/100\n",
      "\u001b[1m3/3\u001b[0m \u001b[32m━━━━━━━━━━━━━━━━━━━━\u001b[0m\u001b[37m\u001b[0m \u001b[1m0s\u001b[0m 25ms/step - accuracy: 0.4773 - loss: 8.4249 - val_accuracy: 0.5000 - val_loss: 8.0590\n",
      "Epoch 84/100\n",
      "\u001b[1m3/3\u001b[0m \u001b[32m━━━━━━━━━━━━━━━━━━━━\u001b[0m\u001b[37m\u001b[0m \u001b[1m0s\u001b[0m 27ms/step - accuracy: 0.4617 - loss: 8.6767 - val_accuracy: 0.5000 - val_loss: 8.0590\n",
      "Epoch 85/100\n",
      "\u001b[1m3/3\u001b[0m \u001b[32m━━━━━━━━━━━━━━━━━━━━\u001b[0m\u001b[37m\u001b[0m \u001b[1m0s\u001b[0m 25ms/step - accuracy: 0.4851 - loss: 8.2989 - val_accuracy: 0.5000 - val_loss: 8.0590\n",
      "Epoch 86/100\n",
      "\u001b[1m3/3\u001b[0m \u001b[32m━━━━━━━━━━━━━━━━━━━━\u001b[0m\u001b[37m\u001b[0m \u001b[1m0s\u001b[0m 25ms/step - accuracy: 0.5046 - loss: 7.9841 - val_accuracy: 0.5000 - val_loss: 8.0590\n",
      "Epoch 87/100\n",
      "\u001b[1m3/3\u001b[0m \u001b[32m━━━━━━━━━━━━━━━━━━━━\u001b[0m\u001b[37m\u001b[0m \u001b[1m0s\u001b[0m 25ms/step - accuracy: 0.5203 - loss: 7.7323 - val_accuracy: 0.5000 - val_loss: 8.0590\n",
      "Epoch 88/100\n",
      "\u001b[1m3/3\u001b[0m \u001b[32m━━━━━━━━━━━━━━━━━━━━\u001b[0m\u001b[37m\u001b[0m \u001b[1m0s\u001b[0m 23ms/step - accuracy: 0.5203 - loss: 7.7323 - val_accuracy: 0.5000 - val_loss: 8.0590\n",
      "Epoch 89/100\n",
      "\u001b[1m3/3\u001b[0m \u001b[32m━━━━━━━━━━━━━━━━━━━━\u001b[0m\u001b[37m\u001b[0m \u001b[1m0s\u001b[0m 24ms/step - accuracy: 0.4890 - loss: 8.2360 - val_accuracy: 0.5000 - val_loss: 8.0590\n",
      "Epoch 90/100\n",
      "\u001b[1m3/3\u001b[0m \u001b[32m━━━━━━━━━━━━━━━━━━━━\u001b[0m\u001b[37m\u001b[0m \u001b[1m0s\u001b[0m 22ms/step - accuracy: 0.4851 - loss: 8.2989 - val_accuracy: 0.5000 - val_loss: 8.0590\n",
      "Epoch 91/100\n",
      "\u001b[1m3/3\u001b[0m \u001b[32m━━━━━━━━━━━━━━━━━━━━\u001b[0m\u001b[37m\u001b[0m \u001b[1m0s\u001b[0m 25ms/step - accuracy: 0.5086 - loss: 7.9212 - val_accuracy: 0.5000 - val_loss: 8.0590\n",
      "Epoch 92/100\n",
      "\u001b[1m3/3\u001b[0m \u001b[32m━━━━━━━━━━━━━━━━━━━━\u001b[0m\u001b[37m\u001b[0m \u001b[1m0s\u001b[0m 25ms/step - accuracy: 0.4617 - loss: 8.6767 - val_accuracy: 0.5000 - val_loss: 8.0590\n",
      "Epoch 93/100\n",
      "\u001b[1m3/3\u001b[0m \u001b[32m━━━━━━━━━━━━━━━━━━━━\u001b[0m\u001b[37m\u001b[0m \u001b[1m0s\u001b[0m 26ms/step - accuracy: 0.4851 - loss: 8.2989 - val_accuracy: 0.5000 - val_loss: 8.0590\n",
      "Epoch 94/100\n",
      "\u001b[1m3/3\u001b[0m \u001b[32m━━━━━━━━━━━━━━━━━━━━\u001b[0m\u001b[37m\u001b[0m \u001b[1m0s\u001b[0m 24ms/step - accuracy: 0.4929 - loss: 8.1730 - val_accuracy: 0.5000 - val_loss: 8.0590\n",
      "Epoch 95/100\n",
      "\u001b[1m3/3\u001b[0m \u001b[32m━━━━━━━━━━━━━━━━━━━━\u001b[0m\u001b[37m\u001b[0m \u001b[1m0s\u001b[0m 34ms/step - accuracy: 0.4421 - loss: 8.9915 - val_accuracy: 0.5000 - val_loss: 8.0590\n",
      "Epoch 96/100\n",
      "\u001b[1m3/3\u001b[0m \u001b[32m━━━━━━━━━━━━━━━━━━━━\u001b[0m\u001b[37m\u001b[0m \u001b[1m0s\u001b[0m 31ms/step - accuracy: 0.4734 - loss: 8.4878 - val_accuracy: 0.5000 - val_loss: 8.0590\n",
      "Epoch 97/100\n",
      "\u001b[1m3/3\u001b[0m \u001b[32m━━━━━━━━━━━━━━━━━━━━\u001b[0m\u001b[37m\u001b[0m \u001b[1m0s\u001b[0m 26ms/step - accuracy: 0.4890 - loss: 8.2360 - val_accuracy: 0.5000 - val_loss: 8.0590\n",
      "Epoch 98/100\n",
      "\u001b[1m3/3\u001b[0m \u001b[32m━━━━━━━━━━━━━━━━━━━━\u001b[0m\u001b[37m\u001b[0m \u001b[1m0s\u001b[0m 31ms/step - accuracy: 0.4929 - loss: 8.1730 - val_accuracy: 0.5000 - val_loss: 8.0590\n",
      "Epoch 99/100\n",
      "\u001b[1m3/3\u001b[0m \u001b[32m━━━━━━━━━━━━━━━━━━━━\u001b[0m\u001b[37m\u001b[0m \u001b[1m0s\u001b[0m 31ms/step - accuracy: 0.4851 - loss: 8.2989 - val_accuracy: 0.5000 - val_loss: 8.0590\n",
      "Epoch 100/100\n",
      "\u001b[1m3/3\u001b[0m \u001b[32m━━━━━━━━━━━━━━━━━━━━\u001b[0m\u001b[37m\u001b[0m \u001b[1m0s\u001b[0m 27ms/step - accuracy: 0.5046 - loss: 7.9841 - val_accuracy: 0.5000 - val_loss: 8.0590\n"
     ]
    }
   ],
   "source": [
    "model.compile(loss='binary_crossentropy',optimizer='adam',metrics=['accuracy'])\n",
    "history=model.fit(X,y,epochs=100,validation_split=0.2)"
   ]
  },
  {
   "cell_type": "code",
   "execution_count": 76,
   "id": "d152f64c-600c-4ede-9207-00459e235ce9",
   "metadata": {},
   "outputs": [],
   "source": [
    "from mlxtend.plotting import plot_decision_regions\n"
   ]
  },
  {
   "cell_type": "code",
   "execution_count": 80,
   "id": "2b488142-6920-44d7-a23a-f55b06942aa2",
   "metadata": {},
   "outputs": [],
   "source": [
    "import numpy as np\n",
    "\n",
    "\n",
    "X\n",
    "# Convert y to a NumPy array with integer type\n",
    "y = np.array(y, dtype=np.int_)"
   ]
  },
  {
   "cell_type": "code",
   "execution_count": 81,
   "id": "549b4ad0-96c5-4b30-b5b6-73dc8deffbeb",
   "metadata": {},
   "outputs": [
    {
     "name": "stdout",
     "output_type": "stream",
     "text": [
      "\u001b[1m9600/9600\u001b[0m \u001b[32m━━━━━━━━━━━━━━━━━━━━\u001b[0m\u001b[37m\u001b[0m \u001b[1m5s\u001b[0m 512us/step\n"
     ]
    },
    {
     "data": {
      "text/plain": [
       "<Axes: >"
      ]
     },
     "execution_count": 81,
     "metadata": {},
     "output_type": "execute_result"
    },
    {
     "data": {
      "image/png": "[encoded data removed]",
      "text/plain": [
       "<Figure size 640x480 with 1 Axes>"
      ]
     },
     "metadata": {},
     "output_type": "display_data"
    }
   ],
   "source": [
    "plot_decision_regions(X.values, y,clf=model,legend=2)"
   ]
  }
 ],
 "metadata": {
  "kernelspec": {
   "display_name": "Python 3 (ipykernel)",
   "language": "python",
   "name": "python3"
  },
  "language_info": {
   "codemirror_mode": {
    "name": "ipython",
    "version": 3
   },
   "file_extension": ".py",
   "mimetype": "text/x-python",
   "name": "python",
   "nbconvert_exporter": "python",
   "pygments_lexer": "ipython3",
   "version": "3.12.7"
  }
 },
 "nbformat": 4,
 "nbformat_minor": 5
}
