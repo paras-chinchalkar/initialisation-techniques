{
 "cells": [
  {
   "cell_type": "code",
   "execution_count": 1,
   "id": "eaa49b1b-c7bb-46b5-9857-ae438b7d15f5",
   "metadata": {},
   "outputs": [],
   "source": [
    "import pandas as pd\n",
    "import numpy as np\n",
    "import matplotlib.pyplot as plt"
   ]
  },
  {
   "cell_type": "code",
   "execution_count": 3,
   "id": "a153b47f-ec66-44b7-89c9-035ff79fb931",
   "metadata": {},
   "outputs": [],
   "source": [
    "df=pd.read_csv('ushape.csv')"
   ]
  },
  {
   "cell_type": "code",
   "execution_count": 5,
   "id": "bf592c05-a2e7-44a3-9d69-e8be6405e6d2",
   "metadata": {},
   "outputs": [
    {
     "data": {
      "text/html": [
       "<div>\n",
       "<style scoped>\n",
       "    .dataframe tbody tr th:only-of-type {\n",
       "        vertical-align: middle;\n",
       "    }\n",
       "\n",
       "    .dataframe tbody tr th {\n",
       "        vertical-align: top;\n",
       "    }\n",
       "\n",
       "    .dataframe thead th {\n",
       "        text-align: right;\n",
       "    }\n",
       "</style>\n",
       "<table border=\"1\" class=\"dataframe\">\n",
       "  <thead>\n",
       "    <tr style=\"text-align: right;\">\n",
       "      <th></th>\n",
       "      <th>3.159499363321345566e-02</th>\n",
       "      <th>9.869877579082642072e-01</th>\n",
       "      <th>0.000000000000000000e+00</th>\n",
       "    </tr>\n",
       "  </thead>\n",
       "  <tbody>\n",
       "    <tr>\n",
       "      <th>0</th>\n",
       "      <td>2.115098</td>\n",
       "      <td>-0.046244</td>\n",
       "      <td>1.0</td>\n",
       "    </tr>\n",
       "    <tr>\n",
       "      <th>1</th>\n",
       "      <td>0.882490</td>\n",
       "      <td>-0.075756</td>\n",
       "      <td>0.0</td>\n",
       "    </tr>\n",
       "    <tr>\n",
       "      <th>2</th>\n",
       "      <td>-0.055144</td>\n",
       "      <td>-0.037332</td>\n",
       "      <td>1.0</td>\n",
       "    </tr>\n",
       "    <tr>\n",
       "      <th>3</th>\n",
       "      <td>0.829545</td>\n",
       "      <td>-0.539321</td>\n",
       "      <td>1.0</td>\n",
       "    </tr>\n",
       "    <tr>\n",
       "      <th>4</th>\n",
       "      <td>2.112857</td>\n",
       "      <td>0.662084</td>\n",
       "      <td>1.0</td>\n",
       "    </tr>\n",
       "  </tbody>\n",
       "</table>\n",
       "</div>"
      ],
      "text/plain": [
       "   3.159499363321345566e-02  9.869877579082642072e-01  \\\n",
       "0                  2.115098                 -0.046244   \n",
       "1                  0.882490                 -0.075756   \n",
       "2                 -0.055144                 -0.037332   \n",
       "3                  0.829545                 -0.539321   \n",
       "4                  2.112857                  0.662084   \n",
       "\n",
       "   0.000000000000000000e+00  \n",
       "0                       1.0  \n",
       "1                       0.0  \n",
       "2                       1.0  \n",
       "3                       1.0  \n",
       "4                       1.0  "
      ]
     },
     "execution_count": 5,
     "metadata": {},
     "output_type": "execute_result"
    }
   ],
   "source": [
    "df.head()"
   ]
  },
  {
   "cell_type": "code",
   "execution_count": 9,
   "id": "c733aefd-1515-429a-95fe-f83809cb1e32",
   "metadata": {},
   "outputs": [],
   "source": [
    "df.columns=['X','y','z']"
   ]
  },
  {
   "cell_type": "code",
   "execution_count": 11,
   "id": "8a53e1eb-bcc9-40de-b81f-a174f471be61",
   "metadata": {},
   "outputs": [
    {
     "data": {
      "text/html": [
       "<div>\n",
       "<style scoped>\n",
       "    .dataframe tbody tr th:only-of-type {\n",
       "        vertical-align: middle;\n",
       "    }\n",
       "\n",
       "    .dataframe tbody tr th {\n",
       "        vertical-align: top;\n",
       "    }\n",
       "\n",
       "    .dataframe thead th {\n",
       "        text-align: right;\n",
       "    }\n",
       "</style>\n",
       "<table border=\"1\" class=\"dataframe\">\n",
       "  <thead>\n",
       "    <tr style=\"text-align: right;\">\n",
       "      <th></th>\n",
       "      <th>X</th>\n",
       "      <th>y</th>\n",
       "      <th>z</th>\n",
       "    </tr>\n",
       "  </thead>\n",
       "  <tbody>\n",
       "    <tr>\n",
       "      <th>0</th>\n",
       "      <td>2.115098</td>\n",
       "      <td>-0.046244</td>\n",
       "      <td>1.0</td>\n",
       "    </tr>\n",
       "    <tr>\n",
       "      <th>1</th>\n",
       "      <td>0.882490</td>\n",
       "      <td>-0.075756</td>\n",
       "      <td>0.0</td>\n",
       "    </tr>\n",
       "    <tr>\n",
       "      <th>2</th>\n",
       "      <td>-0.055144</td>\n",
       "      <td>-0.037332</td>\n",
       "      <td>1.0</td>\n",
       "    </tr>\n",
       "    <tr>\n",
       "      <th>3</th>\n",
       "      <td>0.829545</td>\n",
       "      <td>-0.539321</td>\n",
       "      <td>1.0</td>\n",
       "    </tr>\n",
       "    <tr>\n",
       "      <th>4</th>\n",
       "      <td>2.112857</td>\n",
       "      <td>0.662084</td>\n",
       "      <td>1.0</td>\n",
       "    </tr>\n",
       "  </tbody>\n",
       "</table>\n",
       "</div>"
      ],
      "text/plain": [
       "          X         y    z\n",
       "0  2.115098 -0.046244  1.0\n",
       "1  0.882490 -0.075756  0.0\n",
       "2 -0.055144 -0.037332  1.0\n",
       "3  0.829545 -0.539321  1.0\n",
       "4  2.112857  0.662084  1.0"
      ]
     },
     "execution_count": 11,
     "metadata": {},
     "output_type": "execute_result"
    }
   ],
   "source": [
    "df.head()"
   ]
  },
  {
   "cell_type": "code",
   "execution_count": 15,
   "id": "72138e42-cfba-4ad4-b149-2031c8c2d600",
   "metadata": {},
   "outputs": [
    {
     "data": {
      "text/plain": [
       "<matplotlib.collections.PathCollection at 0x1a316ed4140>"
      ]
     },
     "execution_count": 15,
     "metadata": {},
     "output_type": "execute_result"
    },
    {
     "data": {
      "image/png": "[encoded data removed]",
      "text/plain": [
       "<Figure size 640x480 with 1 Axes>"
      ]
     },
     "metadata": {},
     "output_type": "display_data"
    }
   ],
   "source": [
    "plt.scatter(df['X'],df['y'],c=df['z'])"
   ]
  },
  {
   "cell_type": "code",
   "execution_count": 17,
   "id": "ba7a6a2c-b283-4cb3-b246-738d6f4cb812",
   "metadata": {},
   "outputs": [],
   "source": [
    "X=df.iloc[:,0:2]\n",
    "y=df.iloc[:,-1]"
   ]
  },
  {
   "cell_type": "code",
   "execution_count": 19,
   "id": "fb71d277-6c04-4a9e-aaa2-e8a2801fc2e8",
   "metadata": {},
   "outputs": [],
   "source": [
    "import tensorflow as tf\n",
    "from tensorflow.keras import Sequential\n",
    "from tensorflow.keras.layers import Dense"
   ]
  },
  {
   "cell_type": "code",
   "execution_count": 31,
   "id": "2f358d13-339b-4098-927e-690a9b8856bc",
   "metadata": {},
   "outputs": [
    {
     "name": "stderr",
     "output_type": "stream",
     "text": [
      "C:\\Users\\PARAS\\anaconda3\\Lib\\site-packages\\keras\\src\\layers\\core\\dense.py:87: UserWarning: Do not pass an `input_shape`/`input_dim` argument to a layer. When using Sequential models, prefer using an `Input(shape)` object as the first layer in the model instead.\n",
      "  super().__init__(activity_regularizer=activity_regularizer, **kwargs)\n"
     ]
    },
    {
     "data": {
      "text/html": [
       "<pre style=\"white-space:pre;overflow-x:auto;line-height:normal;font-family:Menlo,'DejaVu Sans Mono',consolas,'Courier New',monospace\"><span style=\"font-weight: bold\">Model: \"sequential_3\"</span>\n",
       "</pre>\n"
      ],
      "text/plain": [
       "\u001b[1mModel: \"sequential_3\"\u001b[0m\n"
      ]
     },
     "metadata": {},
     "output_type": "display_data"
    },
    {
     "data": {
      "text/html": [
       "<pre style=\"white-space:pre;overflow-x:auto;line-height:normal;font-family:Menlo,'DejaVu Sans Mono',consolas,'Courier New',monospace\">┏━━━━━━━━━━━━━━━━━━━━━━━━━━━━━━━━━━━━━━┳━━━━━━━━━━━━━━━━━━━━━━━━━━━━━┳━━━━━━━━━━━━━━━━━┓\n",
       "┃<span style=\"font-weight: bold\"> Layer (type)                         </span>┃<span style=\"font-weight: bold\"> Output Shape                </span>┃<span style=\"font-weight: bold\">         Param # </span>┃\n",
       "┡━━━━━━━━━━━━━━━━━━━━━━━━━━━━━━━━━━━━━━╇━━━━━━━━━━━━━━━━━━━━━━━━━━━━━╇━━━━━━━━━━━━━━━━━┩\n",
       "│ dense_2 (<span style=\"color: #0087ff; text-decoration-color: #0087ff\">Dense</span>)                      │ (<span style=\"color: #00d7ff; text-decoration-color: #00d7ff\">None</span>, <span style=\"color: #00af00; text-decoration-color: #00af00\">10</span>)                  │              <span style=\"color: #00af00; text-decoration-color: #00af00\">30</span> │\n",
       "├──────────────────────────────────────┼─────────────────────────────┼─────────────────┤\n",
       "│ dense_3 (<span style=\"color: #0087ff; text-decoration-color: #0087ff\">Dense</span>)                      │ (<span style=\"color: #00d7ff; text-decoration-color: #00d7ff\">None</span>, <span style=\"color: #00af00; text-decoration-color: #00af00\">10</span>)                  │             <span style=\"color: #00af00; text-decoration-color: #00af00\">110</span> │\n",
       "├──────────────────────────────────────┼─────────────────────────────┼─────────────────┤\n",
       "│ dense_4 (<span style=\"color: #0087ff; text-decoration-color: #0087ff\">Dense</span>)                      │ (<span style=\"color: #00d7ff; text-decoration-color: #00d7ff\">None</span>, <span style=\"color: #00af00; text-decoration-color: #00af00\">10</span>)                  │             <span style=\"color: #00af00; text-decoration-color: #00af00\">110</span> │\n",
       "├──────────────────────────────────────┼─────────────────────────────┼─────────────────┤\n",
       "│ dense_5 (<span style=\"color: #0087ff; text-decoration-color: #0087ff\">Dense</span>)                      │ (<span style=\"color: #00d7ff; text-decoration-color: #00d7ff\">None</span>, <span style=\"color: #00af00; text-decoration-color: #00af00\">10</span>)                  │             <span style=\"color: #00af00; text-decoration-color: #00af00\">110</span> │\n",
       "├──────────────────────────────────────┼─────────────────────────────┼─────────────────┤\n",
       "│ dense_6 (<span style=\"color: #0087ff; text-decoration-color: #0087ff\">Dense</span>)                      │ (<span style=\"color: #00d7ff; text-decoration-color: #00d7ff\">None</span>, <span style=\"color: #00af00; text-decoration-color: #00af00\">1</span>)                   │              <span style=\"color: #00af00; text-decoration-color: #00af00\">11</span> │\n",
       "└──────────────────────────────────────┴─────────────────────────────┴─────────────────┘\n",
       "</pre>\n"
      ],
      "text/plain": [
       "┏━━━━━━━━━━━━━━━━━━━━━━━━━━━━━━━━━━━━━━┳━━━━━━━━━━━━━━━━━━━━━━━━━━━━━┳━━━━━━━━━━━━━━━━━┓\n",
       "┃\u001b[1m \u001b[0m\u001b[1mLayer (type)                        \u001b[0m\u001b[1m \u001b[0m┃\u001b[1m \u001b[0m\u001b[1mOutput Shape               \u001b[0m\u001b[1m \u001b[0m┃\u001b[1m \u001b[0m\u001b[1m        Param #\u001b[0m\u001b[1m \u001b[0m┃\n",
       "┡━━━━━━━━━━━━━━━━━━━━━━━━━━━━━━━━━━━━━━╇━━━━━━━━━━━━━━━━━━━━━━━━━━━━━╇━━━━━━━━━━━━━━━━━┩\n",
       "│ dense_2 (\u001b[38;5;33mDense\u001b[0m)                      │ (\u001b[38;5;45mNone\u001b[0m, \u001b[38;5;34m10\u001b[0m)                  │              \u001b[38;5;34m30\u001b[0m │\n",
       "├──────────────────────────────────────┼─────────────────────────────┼─────────────────┤\n",
       "│ dense_3 (\u001b[38;5;33mDense\u001b[0m)                      │ (\u001b[38;5;45mNone\u001b[0m, \u001b[38;5;34m10\u001b[0m)                  │             \u001b[38;5;34m110\u001b[0m │\n",
       "├──────────────────────────────────────┼─────────────────────────────┼─────────────────┤\n",
       "│ dense_4 (\u001b[38;5;33mDense\u001b[0m)                      │ (\u001b[38;5;45mNone\u001b[0m, \u001b[38;5;34m10\u001b[0m)                  │             \u001b[38;5;34m110\u001b[0m │\n",
       "├──────────────────────────────────────┼─────────────────────────────┼─────────────────┤\n",
       "│ dense_5 (\u001b[38;5;33mDense\u001b[0m)                      │ (\u001b[38;5;45mNone\u001b[0m, \u001b[38;5;34m10\u001b[0m)                  │             \u001b[38;5;34m110\u001b[0m │\n",
       "├──────────────────────────────────────┼─────────────────────────────┼─────────────────┤\n",
       "│ dense_6 (\u001b[38;5;33mDense\u001b[0m)                      │ (\u001b[38;5;45mNone\u001b[0m, \u001b[38;5;34m1\u001b[0m)                   │              \u001b[38;5;34m11\u001b[0m │\n",
       "└──────────────────────────────────────┴─────────────────────────────┴─────────────────┘\n"
      ]
     },
     "metadata": {},
     "output_type": "display_data"
    },
    {
     "data": {
      "text/html": [
       "<pre style=\"white-space:pre;overflow-x:auto;line-height:normal;font-family:Menlo,'DejaVu Sans Mono',consolas,'Courier New',monospace\"><span style=\"font-weight: bold\"> Total params: </span><span style=\"color: #00af00; text-decoration-color: #00af00\">371</span> (1.45 KB)\n",
       "</pre>\n"
      ],
      "text/plain": [
       "\u001b[1m Total params: \u001b[0m\u001b[38;5;34m371\u001b[0m (1.45 KB)\n"
      ]
     },
     "metadata": {},
     "output_type": "display_data"
    },
    {
     "data": {
      "text/html": [
       "<pre style=\"white-space:pre;overflow-x:auto;line-height:normal;font-family:Menlo,'DejaVu Sans Mono',consolas,'Courier New',monospace\"><span style=\"font-weight: bold\"> Trainable params: </span><span style=\"color: #00af00; text-decoration-color: #00af00\">371</span> (1.45 KB)\n",
       "</pre>\n"
      ],
      "text/plain": [
       "\u001b[1m Trainable params: \u001b[0m\u001b[38;5;34m371\u001b[0m (1.45 KB)\n"
      ]
     },
     "metadata": {},
     "output_type": "display_data"
    },
    {
     "data": {
      "text/html": [
       "<pre style=\"white-space:pre;overflow-x:auto;line-height:normal;font-family:Menlo,'DejaVu Sans Mono',consolas,'Courier New',monospace\"><span style=\"font-weight: bold\"> Non-trainable params: </span><span style=\"color: #00af00; text-decoration-color: #00af00\">0</span> (0.00 B)\n",
       "</pre>\n"
      ],
      "text/plain": [
       "\u001b[1m Non-trainable params: \u001b[0m\u001b[38;5;34m0\u001b[0m (0.00 B)\n"
      ]
     },
     "metadata": {},
     "output_type": "display_data"
    }
   ],
   "source": [
    "model=Sequential()\n",
    "model.add(Dense(10,activation='tanh',input_dim=2))\n",
    "model.add(Dense(10,activation='tanh'))\n",
    "model.add(Dense(10,activation='tanh'))\n",
    "model.add(Dense(10,activation='tanh'))\n",
    "model.add(Dense(1,activation='sigmoid'))\n",
    "\n",
    "model.summary()"
   ]
  },
  {
   "cell_type": "code",
   "execution_count": 33,
   "id": "d6164092-6921-443f-807c-85e18b1471dc",
   "metadata": {},
   "outputs": [
    {
     "data": {
      "text/plain": [
       "[array([[-0.64719874,  0.05222368,  0.12076789, -0.32155973, -0.3289061 ,\n",
       "          0.04191959,  0.57931703, -0.6979874 ,  0.10495389,  0.28055   ],\n",
       "        [ 0.6544787 ,  0.48450226, -0.41752672,  0.47128433,  0.4892487 ,\n",
       "         -0.25797716, -0.10605884,  0.17603439, -0.62095255, -0.59430176]],\n",
       "       dtype=float32),\n",
       " array([0., 0., 0., 0., 0., 0., 0., 0., 0., 0.], dtype=float32),\n",
       " array([[-0.06972823,  0.2780286 , -0.34679663, -0.4580952 ,  0.0450688 ,\n",
       "          0.03982937, -0.540405  ,  0.39338702, -0.39652684, -0.40549806],\n",
       "        [-0.42486322, -0.40607002, -0.4801216 , -0.11180514, -0.21334338,\n",
       "          0.49280035,  0.01223981, -0.4899688 , -0.5473934 ,  0.03994638],\n",
       "        [-0.02658093, -0.00634539, -0.1341182 , -0.03605318, -0.34819978,\n",
       "         -0.01421899, -0.3387562 ,  0.11089194, -0.439036  ,  0.28267908],\n",
       "        [-0.5401724 , -0.17680284,  0.15256518, -0.4742192 ,  0.00294894,\n",
       "          0.5264733 ,  0.07991302, -0.39936608, -0.48547322, -0.40438753],\n",
       "        [ 0.20658314,  0.22600967, -0.315641  , -0.180172  ,  0.1626417 ,\n",
       "         -0.00456387, -0.1683118 , -0.41363233, -0.44011557,  0.03220153],\n",
       "        [ 0.34752607,  0.28780317,  0.36154163, -0.01941508, -0.49631613,\n",
       "          0.1668368 , -0.1238966 ,  0.17922145,  0.32391512, -0.5184039 ],\n",
       "        [ 0.43464226,  0.01765591, -0.13494101, -0.14016828, -0.432512  ,\n",
       "         -0.52822614,  0.32224452,  0.08969295,  0.23785889,  0.1309303 ],\n",
       "        [-0.21797034,  0.0542146 ,  0.2970755 ,  0.12067151, -0.3158431 ,\n",
       "          0.48994946,  0.43485028, -0.42953342,  0.5248431 ,  0.50727046],\n",
       "        [-0.13716963, -0.3729697 ,  0.47065663,  0.2672096 ,  0.20539856,\n",
       "         -0.01728415, -0.03974295,  0.29707432, -0.43513012, -0.03312683],\n",
       "        [-0.35834014,  0.05216974,  0.47627473, -0.29123747, -0.0433051 ,\n",
       "         -0.36606058,  0.2524284 , -0.01165032,  0.45654142,  0.43788564]],\n",
       "       dtype=float32),\n",
       " array([0., 0., 0., 0., 0., 0., 0., 0., 0., 0.], dtype=float32),\n",
       " array([[-0.38826185,  0.3595457 ,  0.31985265,  0.07513219, -0.01477933,\n",
       "          0.05600393, -0.42196158, -0.44233945,  0.30401516, -0.44700992],\n",
       "        [ 0.15090573,  0.34193212,  0.09304696,  0.073053  , -0.30000144,\n",
       "          0.20011753, -0.13469148,  0.00575602,  0.01887923,  0.08500314],\n",
       "        [-0.37497237,  0.5065856 ,  0.04921544,  0.01824868,  0.3340125 ,\n",
       "          0.27569985, -0.14333686,  0.45600224, -0.0027734 ,  0.20407665],\n",
       "        [ 0.52041125,  0.45130765, -0.43156615,  0.37023365, -0.46778607,\n",
       "         -0.04704565, -0.25414118,  0.07120371,  0.28975493, -0.02942681],\n",
       "        [ 0.21105498, -0.25529975, -0.11845309, -0.30705237,  0.42898494,\n",
       "          0.2789905 , -0.28889567,  0.32855904, -0.440807  ,  0.03875554],\n",
       "        [ 0.38533306, -0.36701882, -0.04296958, -0.38993335,  0.41954327,\n",
       "          0.3406602 ,  0.3663305 , -0.29861018,  0.37287933,  0.13099259],\n",
       "        [-0.44525495, -0.41012096, -0.30912143, -0.16936707,  0.2271685 ,\n",
       "          0.46406543,  0.4048882 ,  0.03295827, -0.0561358 , -0.1955536 ],\n",
       "        [ 0.3844701 ,  0.03671724,  0.43143505,  0.2939127 ,  0.3268143 ,\n",
       "          0.514001  ,  0.38374823,  0.23661584, -0.1162754 ,  0.13807213],\n",
       "        [ 0.11005068,  0.45199794,  0.3705054 ,  0.16193694, -0.16653502,\n",
       "          0.39953452, -0.27307752, -0.49002704,  0.10568005, -0.39167577],\n",
       "        [-0.5473264 , -0.28490373, -0.02399033, -0.54414135, -0.5325891 ,\n",
       "         -0.30578947, -0.00778562,  0.40686113,  0.08005887, -0.16167432]],\n",
       "       dtype=float32),\n",
       " array([0., 0., 0., 0., 0., 0., 0., 0., 0., 0.], dtype=float32),\n",
       " array([[ 0.3257081 , -0.36594474, -0.25864384,  0.30187422,  0.51874304,\n",
       "          0.5468253 , -0.14780504, -0.08533773,  0.29478854,  0.136536  ],\n",
       "        [ 0.33129066, -0.26573315,  0.25351828, -0.28529003,  0.5191536 ,\n",
       "          0.38471758, -0.2473073 , -0.47180516, -0.3246289 ,  0.23683679],\n",
       "        [ 0.37238663,  0.2254535 , -0.3038432 ,  0.5181918 ,  0.01177466,\n",
       "          0.4759866 ,  0.09626842,  0.05713087,  0.00088888,  0.395517  ],\n",
       "        [-0.41421187,  0.36029583, -0.33127803,  0.06214648,  0.04943407,\n",
       "         -0.08708888, -0.23788789,  0.430804  ,  0.41690433,  0.3728189 ],\n",
       "        [ 0.15411305,  0.25639522,  0.44105566, -0.23463574, -0.19283518,\n",
       "          0.3547563 ,  0.54358006, -0.5143951 ,  0.24418497, -0.4266382 ],\n",
       "        [ 0.31422776, -0.41941303, -0.26690176,  0.24712175,  0.06780088,\n",
       "          0.13182819, -0.07433978, -0.37635046,  0.23789263,  0.32021034],\n",
       "        [-0.53639007, -0.15317336,  0.32187015,  0.20166916,  0.44519424,\n",
       "          0.23828948, -0.50626   ,  0.09081143,  0.18509865,  0.12765658],\n",
       "        [-0.45550892, -0.20848763, -0.26023528, -0.15432212,  0.01310128,\n",
       "         -0.52444553,  0.41088253, -0.38963342, -0.0696815 , -0.14525154],\n",
       "        [ 0.040811  ,  0.4982816 , -0.33564407,  0.03458315, -0.5082138 ,\n",
       "         -0.11958316,  0.21652067,  0.537254  ,  0.53792655, -0.43167898],\n",
       "        [-0.2557257 , -0.26412025,  0.36265892,  0.4291607 , -0.09046209,\n",
       "          0.02813435, -0.5318978 ,  0.37219298,  0.5267842 ,  0.15589935]],\n",
       "       dtype=float32),\n",
       " array([0., 0., 0., 0., 0., 0., 0., 0., 0., 0.], dtype=float32),\n",
       " array([[ 0.22420591],\n",
       "        [ 0.4835984 ],\n",
       "        [-0.13723844],\n",
       "        [ 0.02159703],\n",
       "        [-0.62891865],\n",
       "        [ 0.26693386],\n",
       "        [ 0.73581594],\n",
       "        [-0.7069218 ],\n",
       "        [-0.64337933],\n",
       "        [ 0.14570475]], dtype=float32),\n",
       " array([0.], dtype=float32)]"
      ]
     },
     "execution_count": 33,
     "metadata": {},
     "output_type": "execute_result"
    }
   ],
   "source": [
    "model.get_weights()"
   ]
  },
  {
   "cell_type": "code",
   "execution_count": 37,
   "id": "5ca2aa3d-d78d-4708-a6ea-ff3999f1b555",
   "metadata": {},
   "outputs": [],
   "source": [
    "initial_weights=model.get_weights()"
   ]
  },
  {
   "cell_type": "code",
   "execution_count": 39,
   "id": "15cb2ec4-5d46-464e-a304-a3253050d2bf",
   "metadata": {},
   "outputs": [],
   "source": [
    "model.set_weights(initial_weights)"
   ]
  },
  {
   "cell_type": "code",
   "execution_count": 41,
   "id": "42fa50bd-2b37-45fb-965f-5c6d14b67334",
   "metadata": {},
   "outputs": [
    {
     "data": {
      "text/plain": [
       "[array([[-0.64719874,  0.05222368,  0.12076789, -0.32155973, -0.3289061 ,\n",
       "          0.04191959,  0.57931703, -0.6979874 ,  0.10495389,  0.28055   ],\n",
       "        [ 0.6544787 ,  0.48450226, -0.41752672,  0.47128433,  0.4892487 ,\n",
       "         -0.25797716, -0.10605884,  0.17603439, -0.62095255, -0.59430176]],\n",
       "       dtype=float32),\n",
       " array([0., 0., 0., 0., 0., 0., 0., 0., 0., 0.], dtype=float32),\n",
       " array([[-0.06972823,  0.2780286 , -0.34679663, -0.4580952 ,  0.0450688 ,\n",
       "          0.03982937, -0.540405  ,  0.39338702, -0.39652684, -0.40549806],\n",
       "        [-0.42486322, -0.40607002, -0.4801216 , -0.11180514, -0.21334338,\n",
       "          0.49280035,  0.01223981, -0.4899688 , -0.5473934 ,  0.03994638],\n",
       "        [-0.02658093, -0.00634539, -0.1341182 , -0.03605318, -0.34819978,\n",
       "         -0.01421899, -0.3387562 ,  0.11089194, -0.439036  ,  0.28267908],\n",
       "        [-0.5401724 , -0.17680284,  0.15256518, -0.4742192 ,  0.00294894,\n",
       "          0.5264733 ,  0.07991302, -0.39936608, -0.48547322, -0.40438753],\n",
       "        [ 0.20658314,  0.22600967, -0.315641  , -0.180172  ,  0.1626417 ,\n",
       "         -0.00456387, -0.1683118 , -0.41363233, -0.44011557,  0.03220153],\n",
       "        [ 0.34752607,  0.28780317,  0.36154163, -0.01941508, -0.49631613,\n",
       "          0.1668368 , -0.1238966 ,  0.17922145,  0.32391512, -0.5184039 ],\n",
       "        [ 0.43464226,  0.01765591, -0.13494101, -0.14016828, -0.432512  ,\n",
       "         -0.52822614,  0.32224452,  0.08969295,  0.23785889,  0.1309303 ],\n",
       "        [-0.21797034,  0.0542146 ,  0.2970755 ,  0.12067151, -0.3158431 ,\n",
       "          0.48994946,  0.43485028, -0.42953342,  0.5248431 ,  0.50727046],\n",
       "        [-0.13716963, -0.3729697 ,  0.47065663,  0.2672096 ,  0.20539856,\n",
       "         -0.01728415, -0.03974295,  0.29707432, -0.43513012, -0.03312683],\n",
       "        [-0.35834014,  0.05216974,  0.47627473, -0.29123747, -0.0433051 ,\n",
       "         -0.36606058,  0.2524284 , -0.01165032,  0.45654142,  0.43788564]],\n",
       "       dtype=float32),\n",
       " array([0., 0., 0., 0., 0., 0., 0., 0., 0., 0.], dtype=float32),\n",
       " array([[-0.38826185,  0.3595457 ,  0.31985265,  0.07513219, -0.01477933,\n",
       "          0.05600393, -0.42196158, -0.44233945,  0.30401516, -0.44700992],\n",
       "        [ 0.15090573,  0.34193212,  0.09304696,  0.073053  , -0.30000144,\n",
       "          0.20011753, -0.13469148,  0.00575602,  0.01887923,  0.08500314],\n",
       "        [-0.37497237,  0.5065856 ,  0.04921544,  0.01824868,  0.3340125 ,\n",
       "          0.27569985, -0.14333686,  0.45600224, -0.0027734 ,  0.20407665],\n",
       "        [ 0.52041125,  0.45130765, -0.43156615,  0.37023365, -0.46778607,\n",
       "         -0.04704565, -0.25414118,  0.07120371,  0.28975493, -0.02942681],\n",
       "        [ 0.21105498, -0.25529975, -0.11845309, -0.30705237,  0.42898494,\n",
       "          0.2789905 , -0.28889567,  0.32855904, -0.440807  ,  0.03875554],\n",
       "        [ 0.38533306, -0.36701882, -0.04296958, -0.38993335,  0.41954327,\n",
       "          0.3406602 ,  0.3663305 , -0.29861018,  0.37287933,  0.13099259],\n",
       "        [-0.44525495, -0.41012096, -0.30912143, -0.16936707,  0.2271685 ,\n",
       "          0.46406543,  0.4048882 ,  0.03295827, -0.0561358 , -0.1955536 ],\n",
       "        [ 0.3844701 ,  0.03671724,  0.43143505,  0.2939127 ,  0.3268143 ,\n",
       "          0.514001  ,  0.38374823,  0.23661584, -0.1162754 ,  0.13807213],\n",
       "        [ 0.11005068,  0.45199794,  0.3705054 ,  0.16193694, -0.16653502,\n",
       "          0.39953452, -0.27307752, -0.49002704,  0.10568005, -0.39167577],\n",
       "        [-0.5473264 , -0.28490373, -0.02399033, -0.54414135, -0.5325891 ,\n",
       "         -0.30578947, -0.00778562,  0.40686113,  0.08005887, -0.16167432]],\n",
       "       dtype=float32),\n",
       " array([0., 0., 0., 0., 0., 0., 0., 0., 0., 0.], dtype=float32),\n",
       " array([[ 0.3257081 , -0.36594474, -0.25864384,  0.30187422,  0.51874304,\n",
       "          0.5468253 , -0.14780504, -0.08533773,  0.29478854,  0.136536  ],\n",
       "        [ 0.33129066, -0.26573315,  0.25351828, -0.28529003,  0.5191536 ,\n",
       "          0.38471758, -0.2473073 , -0.47180516, -0.3246289 ,  0.23683679],\n",
       "        [ 0.37238663,  0.2254535 , -0.3038432 ,  0.5181918 ,  0.01177466,\n",
       "          0.4759866 ,  0.09626842,  0.05713087,  0.00088888,  0.395517  ],\n",
       "        [-0.41421187,  0.36029583, -0.33127803,  0.06214648,  0.04943407,\n",
       "         -0.08708888, -0.23788789,  0.430804  ,  0.41690433,  0.3728189 ],\n",
       "        [ 0.15411305,  0.25639522,  0.44105566, -0.23463574, -0.19283518,\n",
       "          0.3547563 ,  0.54358006, -0.5143951 ,  0.24418497, -0.4266382 ],\n",
       "        [ 0.31422776, -0.41941303, -0.26690176,  0.24712175,  0.06780088,\n",
       "          0.13182819, -0.07433978, -0.37635046,  0.23789263,  0.32021034],\n",
       "        [-0.53639007, -0.15317336,  0.32187015,  0.20166916,  0.44519424,\n",
       "          0.23828948, -0.50626   ,  0.09081143,  0.18509865,  0.12765658],\n",
       "        [-0.45550892, -0.20848763, -0.26023528, -0.15432212,  0.01310128,\n",
       "         -0.52444553,  0.41088253, -0.38963342, -0.0696815 , -0.14525154],\n",
       "        [ 0.040811  ,  0.4982816 , -0.33564407,  0.03458315, -0.5082138 ,\n",
       "         -0.11958316,  0.21652067,  0.537254  ,  0.53792655, -0.43167898],\n",
       "        [-0.2557257 , -0.26412025,  0.36265892,  0.4291607 , -0.09046209,\n",
       "          0.02813435, -0.5318978 ,  0.37219298,  0.5267842 ,  0.15589935]],\n",
       "       dtype=float32),\n",
       " array([0., 0., 0., 0., 0., 0., 0., 0., 0., 0.], dtype=float32),\n",
       " array([[ 0.22420591],\n",
       "        [ 0.4835984 ],\n",
       "        [-0.13723844],\n",
       "        [ 0.02159703],\n",
       "        [-0.62891865],\n",
       "        [ 0.26693386],\n",
       "        [ 0.73581594],\n",
       "        [-0.7069218 ],\n",
       "        [-0.64337933],\n",
       "        [ 0.14570475]], dtype=float32),\n",
       " array([0.], dtype=float32)]"
      ]
     },
     "execution_count": 41,
     "metadata": {},
     "output_type": "execute_result"
    }
   ],
   "source": [
    "model.get_weights()"
   ]
  },
  {
   "cell_type": "code",
   "execution_count": 51,
   "id": "c2bd24b0-2806-4ffa-986b-6530f46f58cd",
   "metadata": {},
   "outputs": [],
   "source": [
    "initial_weights[0]=np.random.randn(2,10)*np.sqrt(1/2)\n",
    "initial_weights[1]=np.zeros(model.get_weights()[1].shape)\n",
    "initial_weights[2]=np.random.randn(10,10)*np.sqrt(1/10)\n",
    "initial_weights[3]=np.zeros(model.get_weights()[3].shape)\n",
    "initial_weights[4]=np.random.randn(10,10)*np.sqrt(1/10)\n",
    "initial_weights[5]=np.zeros(model.get_weights()[5].shape)\n",
    "initial_weights[6]=np.random.randn(10,10)*np.sqrt(1/10)\n",
    "initial_weights[7]=np.zeros(model.get_weights()[7].shape)\n",
    "initial_weights[8]=np.random.randn(10,1)*np.sqrt(1/9)\n",
    "initial_weights[9]=np.zeros(model.get_weights()[9].shape)\n"
   ]
  },
  {
   "cell_type": "code",
   "execution_count": 53,
   "id": "52cb111c-cb8a-4928-8b71-7f6be43e44ca",
   "metadata": {},
   "outputs": [],
   "source": [
    "model.set_weights(initial_weights)"
   ]
  },
  {
   "cell_type": "code",
   "execution_count": 57,
   "id": "3da997bc-9ce0-4f21-9d2f-0dbd66994918",
   "metadata": {},
   "outputs": [
    {
     "data": {
      "text/plain": [
       "[array([[ 0.321581  , -0.01925343, -0.60049975,  0.10810429,  0.51140547,\n",
       "         -0.32859123,  0.5235037 ,  1.4371405 , -0.07958175, -1.4532439 ],\n",
       "        [-2.3386502 , -1.3668488 , -0.7736135 , -0.8678985 ,  0.8250508 ,\n",
       "          0.35295662,  0.51684695,  0.70567375,  0.04900549, -0.51862985]],\n",
       "       dtype=float32),\n",
       " array([0., 0., 0., 0., 0., 0., 0., 0., 0., 0.], dtype=float32),\n",
       " array([[ 0.00449037,  0.28074306,  0.14053066, -0.02346687,  0.05458673,\n",
       "         -0.10773533, -0.08738393,  0.11139466,  0.2773948 ,  0.1762541 ],\n",
       "        [ 0.22895005, -0.13117726, -0.4042841 , -0.374213  ,  0.43532458,\n",
       "         -0.20100902,  0.40038487, -0.26705563, -0.2730983 , -0.7685389 ],\n",
       "        [ 0.49900055, -0.25388804, -0.01913925, -0.10684353,  0.07718604,\n",
       "         -0.5140899 , -0.07024815,  0.1289563 , -0.3782977 , -0.58623904],\n",
       "        [ 0.2614928 ,  0.32353547, -0.19293237,  0.6200377 , -0.1862836 ,\n",
       "          0.23329431, -0.34949684,  0.07758342, -0.17040168, -0.17772311],\n",
       "        [-0.45503962,  0.07352746,  0.00265133, -0.53849506, -0.5415596 ,\n",
       "          0.10984899,  0.3560663 , -0.16362855,  0.64068675,  0.12355306],\n",
       "        [-0.02140041, -0.20838708, -0.18277419, -0.41098642,  0.06777745,\n",
       "         -0.5095286 ,  0.03238132,  0.2609181 , -0.28676766, -0.1191735 ],\n",
       "        [-0.11490034,  0.37316942,  0.03058572, -0.20191851, -0.17429788,\n",
       "          0.06045309, -0.17286962, -0.1063514 , -0.20034622,  0.06384869],\n",
       "        [-0.1076061 , -0.24207412, -0.659457  ,  0.2201626 ,  0.00775604,\n",
       "         -0.23981245,  0.04440017,  0.19532324, -0.1340745 , -0.09418267],\n",
       "        [-0.15472138, -0.16380648, -0.2682947 , -0.06142182, -0.04536613,\n",
       "         -0.00941901,  0.05039177,  0.3217497 ,  0.2283245 ,  0.07462285],\n",
       "        [-0.23050144,  0.11093851,  0.02710183, -0.11641176,  0.46992016,\n",
       "          0.15764296,  0.3276948 ,  0.38111246, -0.21680935,  0.10613438]],\n",
       "       dtype=float32),\n",
       " array([0., 0., 0., 0., 0., 0., 0., 0., 0., 0.], dtype=float32),\n",
       " array([[ 0.53531694,  0.20424   ,  0.22665101, -0.21922794, -0.14409533,\n",
       "          0.61155957,  0.10278083,  0.28393313,  0.09005284,  0.6624975 ],\n",
       "        [ 0.35223955, -0.52131766,  0.10157   ,  0.10014456,  0.1967102 ,\n",
       "         -0.19719838,  0.1153189 ,  0.10051296,  0.43484572, -0.4387775 ],\n",
       "        [-0.01510537,  0.0272319 ,  0.24520235, -0.16478878, -0.43702668,\n",
       "          0.16442841,  0.17385769,  0.13896398,  0.02159613, -0.0455469 ],\n",
       "        [-0.03635696,  0.41197962, -0.3052225 ,  0.25622588,  0.597641  ,\n",
       "          0.4605012 , -0.04751484,  0.08036878,  0.47637773,  0.04839792],\n",
       "        [ 0.19601604, -0.01077402,  0.1214207 , -0.15850627, -0.16859338,\n",
       "         -0.02243475,  0.00683856, -0.19199313, -0.23566397,  0.20392363],\n",
       "        [-0.14026323,  0.52480996,  0.0967694 , -0.5460858 ,  0.41526958,\n",
       "         -0.81584644,  0.40901682, -0.2053957 ,  0.16089103, -0.30123132],\n",
       "        [-0.37228218,  0.15541273,  0.13255551, -0.04547498, -0.06841137,\n",
       "         -0.25558838, -0.2090152 ,  0.17930642, -0.16636547, -0.35367647],\n",
       "        [ 0.16702041, -0.11421954,  0.12469343, -0.02549085, -0.04151759,\n",
       "         -0.21646559, -0.06479467,  0.3809803 , -0.4926706 ,  0.05124798],\n",
       "        [-0.08242222, -0.31053457,  0.17640573,  0.02265693, -0.09173614,\n",
       "          0.16837081, -0.10506237,  0.06552706, -0.50524724,  0.25344643],\n",
       "        [-0.15353411, -0.5208729 ,  0.11516897,  0.23862576, -0.46614933,\n",
       "          0.22415985, -0.16054843, -0.00729816,  0.44912526,  0.38855156]],\n",
       "       dtype=float32),\n",
       " array([0., 0., 0., 0., 0., 0., 0., 0., 0., 0.], dtype=float32),\n",
       " array([[-0.08542896, -0.19308354,  0.8357913 ,  0.44856846,  0.20709331,\n",
       "          0.15300576, -0.26699194, -0.1129709 ,  0.00260074,  0.13931115],\n",
       "        [ 0.32563296,  0.24016652,  0.13118218, -0.01474181,  0.3281752 ,\n",
       "          0.71707726,  0.2849762 ,  0.43357226, -0.21158487, -0.1332372 ],\n",
       "        [ 0.21195063,  0.02253292, -0.23668781, -0.223256  ,  0.1575163 ,\n",
       "         -0.24974933, -0.5363127 , -0.28971714, -0.45639846, -0.05049394],\n",
       "        [-0.09433802,  0.10795196, -0.19081517, -0.20318079, -0.652324  ,\n",
       "          0.128404  ,  0.4720395 , -0.21915345, -0.21200754,  0.5214467 ],\n",
       "        [ 0.4190575 , -0.22540201, -0.4423811 ,  0.36220223,  0.07979316,\n",
       "          0.36509082, -0.02767842, -0.12219276, -0.30943447, -0.21370554],\n",
       "        [-0.18308863, -0.25284028, -0.7057612 ,  0.04742203, -0.37224165,\n",
       "         -0.22511347, -0.765061  , -0.11805939, -0.24258983, -0.15476103],\n",
       "        [-0.1576019 , -0.114282  , -0.13991933, -0.04783733, -0.03247368,\n",
       "         -0.54878986,  0.13457146,  0.21475464, -0.57531613,  0.28275615],\n",
       "        [ 0.4950711 ,  0.35788062, -0.35320178,  0.6519901 ,  0.5339309 ,\n",
       "         -0.07947948, -0.30771774,  0.5838002 ,  0.72752726, -0.2675573 ],\n",
       "        [-0.44442585, -0.11629152, -0.50281364, -0.29477295, -0.7951604 ,\n",
       "          0.34836635, -0.4680338 , -0.01678276,  0.45799613, -0.10557711],\n",
       "        [-0.36853084,  0.03192413, -0.04048131,  0.32564932, -0.30265433,\n",
       "          0.49853536,  0.09025812,  0.774603  , -0.1082482 ,  0.41264972]],\n",
       "       dtype=float32),\n",
       " array([0., 0., 0., 0., 0., 0., 0., 0., 0., 0.], dtype=float32),\n",
       " array([[ 0.1254436 ],\n",
       "        [-0.030971  ],\n",
       "        [-0.35057425],\n",
       "        [-0.49516913],\n",
       "        [ 0.39607695],\n",
       "        [ 0.14779398],\n",
       "        [ 0.29959148],\n",
       "        [ 0.35043266],\n",
       "        [-0.35986978],\n",
       "        [-0.00828897]], dtype=float32),\n",
       " array([0.], dtype=float32)]"
      ]
     },
     "execution_count": 57,
     "metadata": {},
     "output_type": "execute_result"
    }
   ],
   "source": [
    "model.get_weights()"
   ]
  },
  {
   "cell_type": "code",
   "execution_count": 61,
   "id": "b9c1b73b-e2f9-4211-bac5-08b5b2440291",
   "metadata": {},
   "outputs": [
    {
     "name": "stdout",
     "output_type": "stream",
     "text": [
      "Epoch 1/100\n",
      "\u001b[1m3/3\u001b[0m \u001b[32m━━━━━━━━━━━━━━━━━━━━\u001b[0m\u001b[37m\u001b[0m \u001b[1m2s\u001b[0m 117ms/step - accuracy: 0.3057 - loss: 0.7088 - val_accuracy: 0.2000 - val_loss: 0.7042\n",
      "Epoch 2/100\n",
      "\u001b[1m3/3\u001b[0m \u001b[32m━━━━━━━━━━━━━━━━━━━━\u001b[0m\u001b[37m\u001b[0m \u001b[1m0s\u001b[0m 38ms/step - accuracy: 0.3681 - loss: 0.6959 - val_accuracy: 0.6500 - val_loss: 0.6869\n",
      "Epoch 3/100\n",
      "\u001b[1m3/3\u001b[0m \u001b[32m━━━━━━━━━━━━━━━━━━━━\u001b[0m\u001b[37m\u001b[0m \u001b[1m0s\u001b[0m 34ms/step - accuracy: 0.7499 - loss: 0.6832 - val_accuracy: 0.8000 - val_loss: 0.6706\n",
      "Epoch 4/100\n",
      "\u001b[1m3/3\u001b[0m \u001b[32m━━━━━━━━━━━━━━━━━━━━\u001b[0m\u001b[37m\u001b[0m \u001b[1m0s\u001b[0m 42ms/step - accuracy: 0.7069 - loss: 0.6728 - val_accuracy: 0.8500 - val_loss: 0.6549\n",
      "Epoch 5/100\n",
      "\u001b[1m3/3\u001b[0m \u001b[32m━━━━━━━━━━━━━━━━━━━━\u001b[0m\u001b[37m\u001b[0m \u001b[1m0s\u001b[0m 27ms/step - accuracy: 0.7987 - loss: 0.6590 - val_accuracy: 0.8500 - val_loss: 0.6404\n",
      "Epoch 6/100\n",
      "\u001b[1m3/3\u001b[0m \u001b[32m━━━━━━━━━━━━━━━━━━━━\u001b[0m\u001b[37m\u001b[0m \u001b[1m0s\u001b[0m 28ms/step - accuracy: 0.8113 - loss: 0.6481 - val_accuracy: 0.9000 - val_loss: 0.6264\n",
      "Epoch 7/100\n",
      "\u001b[1m3/3\u001b[0m \u001b[32m━━━━━━━━━━━━━━━━━━━━\u001b[0m\u001b[37m\u001b[0m \u001b[1m0s\u001b[0m 30ms/step - accuracy: 0.8230 - loss: 0.6365 - val_accuracy: 0.9000 - val_loss: 0.6127\n",
      "Epoch 8/100\n",
      "\u001b[1m3/3\u001b[0m \u001b[32m━━━━━━━━━━━━━━━━━━━━\u001b[0m\u001b[37m\u001b[0m \u001b[1m0s\u001b[0m 33ms/step - accuracy: 0.8230 - loss: 0.6264 - val_accuracy: 0.8500 - val_loss: 0.5997\n",
      "Epoch 9/100\n",
      "\u001b[1m3/3\u001b[0m \u001b[32m━━━━━━━━━━━━━━━━━━━━\u001b[0m\u001b[37m\u001b[0m \u001b[1m0s\u001b[0m 31ms/step - accuracy: 0.8152 - loss: 0.6172 - val_accuracy: 0.8500 - val_loss: 0.5865\n",
      "Epoch 10/100\n",
      "\u001b[1m3/3\u001b[0m \u001b[32m━━━━━━━━━━━━━━━━━━━━\u001b[0m\u001b[37m\u001b[0m \u001b[1m0s\u001b[0m 39ms/step - accuracy: 0.8255 - loss: 0.6091 - val_accuracy: 0.8500 - val_loss: 0.5739\n",
      "Epoch 11/100\n",
      "\u001b[1m3/3\u001b[0m \u001b[32m━━━━━━━━━━━━━━━━━━━━\u001b[0m\u001b[37m\u001b[0m \u001b[1m0s\u001b[0m 34ms/step - accuracy: 0.8333 - loss: 0.5992 - val_accuracy: 0.8500 - val_loss: 0.5617\n",
      "Epoch 12/100\n",
      "\u001b[1m3/3\u001b[0m \u001b[32m━━━━━━━━━━━━━━━━━━━━\u001b[0m\u001b[37m\u001b[0m \u001b[1m0s\u001b[0m 33ms/step - accuracy: 0.8215 - loss: 0.5930 - val_accuracy: 0.8500 - val_loss: 0.5497\n",
      "Epoch 13/100\n",
      "\u001b[1m3/3\u001b[0m \u001b[32m━━━━━━━━━━━━━━━━━━━━\u001b[0m\u001b[37m\u001b[0m \u001b[1m0s\u001b[0m 41ms/step - accuracy: 0.7942 - loss: 0.5936 - val_accuracy: 0.8500 - val_loss: 0.5378\n",
      "Epoch 14/100\n",
      "\u001b[1m3/3\u001b[0m \u001b[32m━━━━━━━━━━━━━━━━━━━━\u001b[0m\u001b[37m\u001b[0m \u001b[1m0s\u001b[0m 31ms/step - accuracy: 0.8113 - loss: 0.5725 - val_accuracy: 0.8500 - val_loss: 0.5259\n",
      "Epoch 15/100\n",
      "\u001b[1m3/3\u001b[0m \u001b[32m━━━━━━━━━━━━━━━━━━━━\u001b[0m\u001b[37m\u001b[0m \u001b[1m0s\u001b[0m 34ms/step - accuracy: 0.7996 - loss: 0.5703 - val_accuracy: 0.8500 - val_loss: 0.5142\n",
      "Epoch 16/100\n",
      "\u001b[1m3/3\u001b[0m \u001b[32m━━━━━━━━━━━━━━━━━━━━\u001b[0m\u001b[37m\u001b[0m \u001b[1m0s\u001b[0m 62ms/step - accuracy: 0.8333 - loss: 0.5436 - val_accuracy: 0.8500 - val_loss: 0.5024\n",
      "Epoch 17/100\n",
      "\u001b[1m3/3\u001b[0m \u001b[32m━━━━━━━━━━━━━━━━━━━━\u001b[0m\u001b[37m\u001b[0m \u001b[1m0s\u001b[0m 28ms/step - accuracy: 0.8098 - loss: 0.5564 - val_accuracy: 0.8000 - val_loss: 0.4917\n",
      "Epoch 18/100\n",
      "\u001b[1m3/3\u001b[0m \u001b[32m━━━━━━━━━━━━━━━━━━━━\u001b[0m\u001b[37m\u001b[0m \u001b[1m0s\u001b[0m 29ms/step - accuracy: 0.8435 - loss: 0.5345 - val_accuracy: 0.8000 - val_loss: 0.4806\n",
      "Epoch 19/100\n",
      "\u001b[1m3/3\u001b[0m \u001b[32m━━━━━━━━━━━━━━━━━━━━\u001b[0m\u001b[37m\u001b[0m \u001b[1m0s\u001b[0m 31ms/step - accuracy: 0.8201 - loss: 0.5365 - val_accuracy: 0.8000 - val_loss: 0.4698\n",
      "Epoch 20/100\n",
      "\u001b[1m3/3\u001b[0m \u001b[32m━━━━━━━━━━━━━━━━━━━━\u001b[0m\u001b[37m\u001b[0m \u001b[1m0s\u001b[0m 30ms/step - accuracy: 0.8240 - loss: 0.5302 - val_accuracy: 0.8000 - val_loss: 0.4591\n",
      "Epoch 21/100\n",
      "\u001b[1m3/3\u001b[0m \u001b[32m━━━━━━━━━━━━━━━━━━━━\u001b[0m\u001b[37m\u001b[0m \u001b[1m0s\u001b[0m 28ms/step - accuracy: 0.8318 - loss: 0.5217 - val_accuracy: 0.8000 - val_loss: 0.4482\n",
      "Epoch 22/100\n",
      "\u001b[1m3/3\u001b[0m \u001b[32m━━━━━━━━━━━━━━━━━━━━\u001b[0m\u001b[37m\u001b[0m \u001b[1m0s\u001b[0m 64ms/step - accuracy: 0.8201 - loss: 0.5034 - val_accuracy: 0.8000 - val_loss: 0.4374\n",
      "Epoch 23/100\n",
      "\u001b[1m3/3\u001b[0m \u001b[32m━━━━━━━━━━━━━━━━━━━━\u001b[0m\u001b[37m\u001b[0m \u001b[1m0s\u001b[0m 36ms/step - accuracy: 0.7927 - loss: 0.5064 - val_accuracy: 0.8000 - val_loss: 0.4275\n",
      "Epoch 24/100\n",
      "\u001b[1m3/3\u001b[0m \u001b[32m━━━━━━━━━━━━━━━━━━━━\u001b[0m\u001b[37m\u001b[0m \u001b[1m0s\u001b[0m 26ms/step - accuracy: 0.8357 - loss: 0.4948 - val_accuracy: 0.8000 - val_loss: 0.4184\n",
      "Epoch 25/100\n",
      "\u001b[1m3/3\u001b[0m \u001b[32m━━━━━━━━━━━━━━━━━━━━\u001b[0m\u001b[37m\u001b[0m \u001b[1m0s\u001b[0m 29ms/step - accuracy: 0.8240 - loss: 0.4965 - val_accuracy: 0.8500 - val_loss: 0.4094\n",
      "Epoch 26/100\n",
      "\u001b[1m3/3\u001b[0m \u001b[32m━━━━━━━━━━━━━━━━━━━━\u001b[0m\u001b[37m\u001b[0m \u001b[1m0s\u001b[0m 30ms/step - accuracy: 0.8435 - loss: 0.4774 - val_accuracy: 0.8500 - val_loss: 0.4007\n",
      "Epoch 27/100\n",
      "\u001b[1m3/3\u001b[0m \u001b[32m━━━━━━━━━━━━━━━━━━━━\u001b[0m\u001b[37m\u001b[0m \u001b[1m0s\u001b[0m 26ms/step - accuracy: 0.8396 - loss: 0.4682 - val_accuracy: 0.8500 - val_loss: 0.3926\n",
      "Epoch 28/100\n",
      "\u001b[1m3/3\u001b[0m \u001b[32m━━━━━━━━━━━━━━━━━━━━\u001b[0m\u001b[37m\u001b[0m \u001b[1m0s\u001b[0m 26ms/step - accuracy: 0.8616 - loss: 0.4595 - val_accuracy: 0.8000 - val_loss: 0.3854\n",
      "Epoch 29/100\n",
      "\u001b[1m3/3\u001b[0m \u001b[32m━━━━━━━━━━━━━━━━━━━━\u001b[0m\u001b[37m\u001b[0m \u001b[1m0s\u001b[0m 26ms/step - accuracy: 0.8616 - loss: 0.4484 - val_accuracy: 0.8000 - val_loss: 0.3786\n",
      "Epoch 30/100\n",
      "\u001b[1m3/3\u001b[0m \u001b[32m━━━━━━━━━━━━━━━━━━━━\u001b[0m\u001b[37m\u001b[0m \u001b[1m0s\u001b[0m 25ms/step - accuracy: 0.8420 - loss: 0.4656 - val_accuracy: 0.8000 - val_loss: 0.3724\n",
      "Epoch 31/100\n",
      "\u001b[1m3/3\u001b[0m \u001b[32m━━━━━━━━━━━━━━━━━━━━\u001b[0m\u001b[37m\u001b[0m \u001b[1m0s\u001b[0m 28ms/step - accuracy: 0.8474 - loss: 0.4445 - val_accuracy: 0.8000 - val_loss: 0.3661\n",
      "Epoch 32/100\n",
      "\u001b[1m3/3\u001b[0m \u001b[32m━━━━━━━━━━━━━━━━━━━━\u001b[0m\u001b[37m\u001b[0m \u001b[1m0s\u001b[0m 29ms/step - accuracy: 0.8576 - loss: 0.4342 - val_accuracy: 0.8000 - val_loss: 0.3602\n",
      "Epoch 33/100\n",
      "\u001b[1m3/3\u001b[0m \u001b[32m━━━━━━━━━━━━━━━━━━━━\u001b[0m\u001b[37m\u001b[0m \u001b[1m0s\u001b[0m 24ms/step - accuracy: 0.8396 - loss: 0.4387 - val_accuracy: 0.8000 - val_loss: 0.3545\n",
      "Epoch 34/100\n",
      "\u001b[1m3/3\u001b[0m \u001b[32m━━━━━━━━━━━━━━━━━━━━\u001b[0m\u001b[37m\u001b[0m \u001b[1m0s\u001b[0m 27ms/step - accuracy: 0.8318 - loss: 0.4368 - val_accuracy: 0.8000 - val_loss: 0.3489\n",
      "Epoch 35/100\n",
      "\u001b[1m3/3\u001b[0m \u001b[32m━━━━━━━━━━━━━━━━━━━━\u001b[0m\u001b[37m\u001b[0m \u001b[1m0s\u001b[0m 25ms/step - accuracy: 0.8498 - loss: 0.4251 - val_accuracy: 0.8000 - val_loss: 0.3439\n",
      "Epoch 36/100\n",
      "\u001b[1m3/3\u001b[0m \u001b[32m━━━━━━━━━━━━━━━━━━━━\u001b[0m\u001b[37m\u001b[0m \u001b[1m0s\u001b[0m 27ms/step - accuracy: 0.8264 - loss: 0.4539 - val_accuracy: 0.8000 - val_loss: 0.3394\n",
      "Epoch 37/100\n",
      "\u001b[1m3/3\u001b[0m \u001b[32m━━━━━━━━━━━━━━━━━━━━\u001b[0m\u001b[37m\u001b[0m \u001b[1m0s\u001b[0m 26ms/step - accuracy: 0.8459 - loss: 0.4117 - val_accuracy: 0.8000 - val_loss: 0.3348\n",
      "Epoch 38/100\n",
      "\u001b[1m3/3\u001b[0m \u001b[32m━━━━━━━━━━━━━━━━━━━━\u001b[0m\u001b[37m\u001b[0m \u001b[1m0s\u001b[0m 26ms/step - accuracy: 0.8264 - loss: 0.4560 - val_accuracy: 0.8000 - val_loss: 0.3312\n",
      "Epoch 39/100\n",
      "\u001b[1m3/3\u001b[0m \u001b[32m━━━━━━━━━━━━━━━━━━━━\u001b[0m\u001b[37m\u001b[0m \u001b[1m0s\u001b[0m 47ms/step - accuracy: 0.8513 - loss: 0.4055 - val_accuracy: 0.8000 - val_loss: 0.3282\n",
      "Epoch 40/100\n",
      "\u001b[1m3/3\u001b[0m \u001b[32m━━━━━━━━━━━━━━━━━━━━\u001b[0m\u001b[37m\u001b[0m \u001b[1m0s\u001b[0m 37ms/step - accuracy: 0.7966 - loss: 0.4493 - val_accuracy: 0.8000 - val_loss: 0.3256\n",
      "Epoch 41/100\n",
      "\u001b[1m3/3\u001b[0m \u001b[32m━━━━━━━━━━━━━━━━━━━━\u001b[0m\u001b[37m\u001b[0m \u001b[1m0s\u001b[0m 35ms/step - accuracy: 0.8435 - loss: 0.3962 - val_accuracy: 0.8000 - val_loss: 0.3228\n",
      "Epoch 42/100\n",
      "\u001b[1m3/3\u001b[0m \u001b[32m━━━━━━━━━━━━━━━━━━━━\u001b[0m\u001b[37m\u001b[0m \u001b[1m0s\u001b[0m 35ms/step - accuracy: 0.8381 - loss: 0.4228 - val_accuracy: 0.8000 - val_loss: 0.3201\n",
      "Epoch 43/100\n",
      "\u001b[1m3/3\u001b[0m \u001b[32m━━━━━━━━━━━━━━━━━━━━\u001b[0m\u001b[37m\u001b[0m \u001b[1m0s\u001b[0m 28ms/step - accuracy: 0.8264 - loss: 0.4424 - val_accuracy: 0.8000 - val_loss: 0.3172\n",
      "Epoch 44/100\n",
      "\u001b[1m3/3\u001b[0m \u001b[32m━━━━━━━━━━━━━━━━━━━━\u001b[0m\u001b[37m\u001b[0m \u001b[1m0s\u001b[0m 27ms/step - accuracy: 0.8225 - loss: 0.4383 - val_accuracy: 0.8000 - val_loss: 0.3145\n",
      "Epoch 45/100\n",
      "\u001b[1m3/3\u001b[0m \u001b[32m━━━━━━━━━━━━━━━━━━━━\u001b[0m\u001b[37m\u001b[0m \u001b[1m0s\u001b[0m 29ms/step - accuracy: 0.8498 - loss: 0.4066 - val_accuracy: 0.8000 - val_loss: 0.3114\n",
      "Epoch 46/100\n",
      "\u001b[1m3/3\u001b[0m \u001b[32m━━━━━━━━━━━━━━━━━━━━\u001b[0m\u001b[37m\u001b[0m \u001b[1m0s\u001b[0m 27ms/step - accuracy: 0.8537 - loss: 0.3956 - val_accuracy: 0.8000 - val_loss: 0.3086\n",
      "Epoch 47/100\n",
      "\u001b[1m3/3\u001b[0m \u001b[32m━━━━━━━━━━━━━━━━━━━━\u001b[0m\u001b[37m\u001b[0m \u001b[1m0s\u001b[0m 27ms/step - accuracy: 0.8459 - loss: 0.3968 - val_accuracy: 0.8000 - val_loss: 0.3058\n",
      "Epoch 48/100\n",
      "\u001b[1m3/3\u001b[0m \u001b[32m━━━━━━━━━━━━━━━━━━━━\u001b[0m\u001b[37m\u001b[0m \u001b[1m0s\u001b[0m 28ms/step - accuracy: 0.8537 - loss: 0.4014 - val_accuracy: 0.8000 - val_loss: 0.3030\n",
      "Epoch 49/100\n",
      "\u001b[1m3/3\u001b[0m \u001b[32m━━━━━━━━━━━━━━━━━━━━\u001b[0m\u001b[37m\u001b[0m \u001b[1m0s\u001b[0m 32ms/step - accuracy: 0.8420 - loss: 0.3992 - val_accuracy: 0.8000 - val_loss: 0.3002\n",
      "Epoch 50/100\n",
      "\u001b[1m3/3\u001b[0m \u001b[32m━━━━━━━━━━━━━━━━━━━━\u001b[0m\u001b[37m\u001b[0m \u001b[1m0s\u001b[0m 32ms/step - accuracy: 0.8279 - loss: 0.4246 - val_accuracy: 0.8000 - val_loss: 0.2975\n",
      "Epoch 51/100\n",
      "\u001b[1m3/3\u001b[0m \u001b[32m━━━━━━━━━━━━━━━━━━━━\u001b[0m\u001b[37m\u001b[0m \u001b[1m0s\u001b[0m 31ms/step - accuracy: 0.8381 - loss: 0.4292 - val_accuracy: 0.8000 - val_loss: 0.2948\n",
      "Epoch 52/100\n",
      "\u001b[1m3/3\u001b[0m \u001b[32m━━━━━━━━━━━━━━━━━━━━\u001b[0m\u001b[37m\u001b[0m \u001b[1m0s\u001b[0m 33ms/step - accuracy: 0.8186 - loss: 0.4375 - val_accuracy: 0.8000 - val_loss: 0.2924\n",
      "Epoch 53/100\n",
      "\u001b[1m3/3\u001b[0m \u001b[32m━━━━━━━━━━━━━━━━━━━━\u001b[0m\u001b[37m\u001b[0m \u001b[1m0s\u001b[0m 30ms/step - accuracy: 0.8420 - loss: 0.4203 - val_accuracy: 0.8000 - val_loss: 0.2900\n",
      "Epoch 54/100\n",
      "\u001b[1m3/3\u001b[0m \u001b[32m━━━━━━━━━━━━━━━━━━━━\u001b[0m\u001b[37m\u001b[0m \u001b[1m0s\u001b[0m 26ms/step - accuracy: 0.8459 - loss: 0.3868 - val_accuracy: 0.8000 - val_loss: 0.2873\n",
      "Epoch 55/100\n",
      "\u001b[1m3/3\u001b[0m \u001b[32m━━━━━━━━━━━━━━━━━━━━\u001b[0m\u001b[37m\u001b[0m \u001b[1m0s\u001b[0m 28ms/step - accuracy: 0.8225 - loss: 0.4271 - val_accuracy: 0.8500 - val_loss: 0.2853\n",
      "Epoch 56/100\n",
      "\u001b[1m3/3\u001b[0m \u001b[32m━━━━━━━━━━━━━━━━━━━━\u001b[0m\u001b[37m\u001b[0m \u001b[1m0s\u001b[0m 26ms/step - accuracy: 0.8616 - loss: 0.3784 - val_accuracy: 0.8500 - val_loss: 0.2833\n",
      "Epoch 57/100\n",
      "\u001b[1m3/3\u001b[0m \u001b[32m━━━━━━━━━━━━━━━━━━━━\u001b[0m\u001b[37m\u001b[0m \u001b[1m0s\u001b[0m 29ms/step - accuracy: 0.8303 - loss: 0.4085 - val_accuracy: 0.8500 - val_loss: 0.2817\n",
      "Epoch 58/100\n",
      "\u001b[1m3/3\u001b[0m \u001b[32m━━━━━━━━━━━━━━━━━━━━\u001b[0m\u001b[37m\u001b[0m \u001b[1m0s\u001b[0m 29ms/step - accuracy: 0.8498 - loss: 0.3916 - val_accuracy: 0.8500 - val_loss: 0.2802\n",
      "Epoch 59/100\n",
      "\u001b[1m3/3\u001b[0m \u001b[32m━━━━━━━━━━━━━━━━━━━━\u001b[0m\u001b[37m\u001b[0m \u001b[1m0s\u001b[0m 26ms/step - accuracy: 0.8498 - loss: 0.3965 - val_accuracy: 0.8500 - val_loss: 0.2793\n",
      "Epoch 60/100\n",
      "\u001b[1m3/3\u001b[0m \u001b[32m━━━━━━━━━━━━━━━━━━━━\u001b[0m\u001b[37m\u001b[0m \u001b[1m0s\u001b[0m 68ms/step - accuracy: 0.8459 - loss: 0.3971 - val_accuracy: 0.8500 - val_loss: 0.2782\n",
      "Epoch 61/100\n",
      "\u001b[1m3/3\u001b[0m \u001b[32m━━━━━━━━━━━━━━━━━━━━\u001b[0m\u001b[37m\u001b[0m \u001b[1m0s\u001b[0m 24ms/step - accuracy: 0.8537 - loss: 0.3701 - val_accuracy: 0.8000 - val_loss: 0.2777\n",
      "Epoch 62/100\n",
      "\u001b[1m3/3\u001b[0m \u001b[32m━━━━━━━━━━━━━━━━━━━━\u001b[0m\u001b[37m\u001b[0m \u001b[1m0s\u001b[0m 26ms/step - accuracy: 0.8537 - loss: 0.3888 - val_accuracy: 0.8000 - val_loss: 0.2773\n",
      "Epoch 63/100\n",
      "\u001b[1m3/3\u001b[0m \u001b[32m━━━━━━━━━━━━━━━━━━━━\u001b[0m\u001b[37m\u001b[0m \u001b[1m0s\u001b[0m 26ms/step - accuracy: 0.8694 - loss: 0.3730 - val_accuracy: 0.8000 - val_loss: 0.2761\n",
      "Epoch 64/100\n",
      "\u001b[1m3/3\u001b[0m \u001b[32m━━━━━━━━━━━━━━━━━━━━\u001b[0m\u001b[37m\u001b[0m \u001b[1m0s\u001b[0m 26ms/step - accuracy: 0.8381 - loss: 0.4282 - val_accuracy: 0.8000 - val_loss: 0.2751\n",
      "Epoch 65/100\n",
      "\u001b[1m3/3\u001b[0m \u001b[32m━━━━━━━━━━━━━━━━━━━━\u001b[0m\u001b[37m\u001b[0m \u001b[1m0s\u001b[0m 25ms/step - accuracy: 0.8537 - loss: 0.3977 - val_accuracy: 0.8000 - val_loss: 0.2741\n",
      "Epoch 66/100\n",
      "\u001b[1m3/3\u001b[0m \u001b[32m━━━━━━━━━━━━━━━━━━━━\u001b[0m\u001b[37m\u001b[0m \u001b[1m0s\u001b[0m 24ms/step - accuracy: 0.8498 - loss: 0.3927 - val_accuracy: 0.8000 - val_loss: 0.2733\n",
      "Epoch 67/100\n",
      "\u001b[1m3/3\u001b[0m \u001b[32m━━━━━━━━━━━━━━━━━━━━\u001b[0m\u001b[37m\u001b[0m \u001b[1m0s\u001b[0m 28ms/step - accuracy: 0.8694 - loss: 0.3641 - val_accuracy: 0.8000 - val_loss: 0.2729\n",
      "Epoch 68/100\n",
      "\u001b[1m3/3\u001b[0m \u001b[32m━━━━━━━━━━━━━━━━━━━━\u001b[0m\u001b[37m\u001b[0m \u001b[1m0s\u001b[0m 67ms/step - accuracy: 0.8576 - loss: 0.3602 - val_accuracy: 0.8000 - val_loss: 0.2727\n",
      "Epoch 69/100\n",
      "\u001b[1m3/3\u001b[0m \u001b[32m━━━━━━━━━━━━━━━━━━━━\u001b[0m\u001b[37m\u001b[0m \u001b[1m0s\u001b[0m 26ms/step - accuracy: 0.8420 - loss: 0.3905 - val_accuracy: 0.8500 - val_loss: 0.2720\n",
      "Epoch 70/100\n",
      "\u001b[1m3/3\u001b[0m \u001b[32m━━━━━━━━━━━━━━━━━━━━\u001b[0m\u001b[37m\u001b[0m \u001b[1m0s\u001b[0m 26ms/step - accuracy: 0.8186 - loss: 0.4365 - val_accuracy: 0.8500 - val_loss: 0.2712\n",
      "Epoch 71/100\n",
      "\u001b[1m3/3\u001b[0m \u001b[32m━━━━━━━━━━━━━━━━━━━━\u001b[0m\u001b[37m\u001b[0m \u001b[1m0s\u001b[0m 25ms/step - accuracy: 0.8420 - loss: 0.3898 - val_accuracy: 0.8500 - val_loss: 0.2700\n",
      "Epoch 72/100\n",
      "\u001b[1m3/3\u001b[0m \u001b[32m━━━━━━━━━━━━━━━━━━━━\u001b[0m\u001b[37m\u001b[0m \u001b[1m0s\u001b[0m 26ms/step - accuracy: 0.8459 - loss: 0.3909 - val_accuracy: 0.8500 - val_loss: 0.2692\n",
      "Epoch 73/100\n",
      "\u001b[1m3/3\u001b[0m \u001b[32m━━━━━━━━━━━━━━━━━━━━\u001b[0m\u001b[37m\u001b[0m \u001b[1m0s\u001b[0m 31ms/step - accuracy: 0.8537 - loss: 0.3877 - val_accuracy: 0.8500 - val_loss: 0.2675\n",
      "Epoch 74/100\n",
      "\u001b[1m3/3\u001b[0m \u001b[32m━━━━━━━━━━━━━━━━━━━━\u001b[0m\u001b[37m\u001b[0m \u001b[1m0s\u001b[0m 29ms/step - accuracy: 0.8459 - loss: 0.3905 - val_accuracy: 0.8500 - val_loss: 0.2663\n",
      "Epoch 75/100\n",
      "\u001b[1m3/3\u001b[0m \u001b[32m━━━━━━━━━━━━━━━━━━━━\u001b[0m\u001b[37m\u001b[0m \u001b[1m0s\u001b[0m 28ms/step - accuracy: 0.8303 - loss: 0.4045 - val_accuracy: 0.8500 - val_loss: 0.2659\n",
      "Epoch 76/100\n",
      "\u001b[1m3/3\u001b[0m \u001b[32m━━━━━━━━━━━━━━━━━━━━\u001b[0m\u001b[37m\u001b[0m \u001b[1m0s\u001b[0m 30ms/step - accuracy: 0.8537 - loss: 0.3884 - val_accuracy: 0.8500 - val_loss: 0.2654\n",
      "Epoch 77/100\n",
      "\u001b[1m3/3\u001b[0m \u001b[32m━━━━━━━━━━━━━━━━━━━━\u001b[0m\u001b[37m\u001b[0m \u001b[1m0s\u001b[0m 31ms/step - accuracy: 0.8381 - loss: 0.4018 - val_accuracy: 0.8500 - val_loss: 0.2648\n",
      "Epoch 78/100\n",
      "\u001b[1m3/3\u001b[0m \u001b[32m━━━━━━━━━━━━━━━━━━━━\u001b[0m\u001b[37m\u001b[0m \u001b[1m0s\u001b[0m 28ms/step - accuracy: 0.8420 - loss: 0.4221 - val_accuracy: 0.8500 - val_loss: 0.2643\n",
      "Epoch 79/100\n",
      "\u001b[1m3/3\u001b[0m \u001b[32m━━━━━━━━━━━━━━━━━━━━\u001b[0m\u001b[37m\u001b[0m \u001b[1m0s\u001b[0m 26ms/step - accuracy: 0.8420 - loss: 0.4075 - val_accuracy: 0.8500 - val_loss: 0.2642\n",
      "Epoch 80/100\n",
      "\u001b[1m3/3\u001b[0m \u001b[32m━━━━━━━━━━━━━━━━━━━━\u001b[0m\u001b[37m\u001b[0m \u001b[1m0s\u001b[0m 25ms/step - accuracy: 0.8537 - loss: 0.3754 - val_accuracy: 0.8500 - val_loss: 0.2649\n",
      "Epoch 81/100\n",
      "\u001b[1m3/3\u001b[0m \u001b[32m━━━━━━━━━━━━━━━━━━━━\u001b[0m\u001b[37m\u001b[0m \u001b[1m0s\u001b[0m 27ms/step - accuracy: 0.8576 - loss: 0.3732 - val_accuracy: 0.8500 - val_loss: 0.2658\n",
      "Epoch 82/100\n",
      "\u001b[1m3/3\u001b[0m \u001b[32m━━━━━━━━━━━━━━━━━━━━\u001b[0m\u001b[37m\u001b[0m \u001b[1m0s\u001b[0m 26ms/step - accuracy: 0.8694 - loss: 0.3664 - val_accuracy: 0.8000 - val_loss: 0.2668\n",
      "Epoch 83/100\n",
      "\u001b[1m3/3\u001b[0m \u001b[32m━━━━━━━━━━━━━━━━━━━━\u001b[0m\u001b[37m\u001b[0m \u001b[1m0s\u001b[0m 25ms/step - accuracy: 0.8459 - loss: 0.3940 - val_accuracy: 0.8000 - val_loss: 0.2674\n",
      "Epoch 84/100\n",
      "\u001b[1m3/3\u001b[0m \u001b[32m━━━━━━━━━━━━━━━━━━━━\u001b[0m\u001b[37m\u001b[0m \u001b[1m0s\u001b[0m 26ms/step - accuracy: 0.8640 - loss: 0.3786 - val_accuracy: 0.8000 - val_loss: 0.2678\n",
      "Epoch 85/100\n",
      "\u001b[1m3/3\u001b[0m \u001b[32m━━━━━━━━━━━━━━━━━━━━\u001b[0m\u001b[37m\u001b[0m \u001b[1m0s\u001b[0m 27ms/step - accuracy: 0.8718 - loss: 0.3674 - val_accuracy: 0.8000 - val_loss: 0.2682\n",
      "Epoch 86/100\n",
      "\u001b[1m3/3\u001b[0m \u001b[32m━━━━━━━━━━━━━━━━━━━━\u001b[0m\u001b[37m\u001b[0m \u001b[1m0s\u001b[0m 35ms/step - accuracy: 0.8601 - loss: 0.3902 - val_accuracy: 0.8000 - val_loss: 0.2676\n",
      "Epoch 87/100\n",
      "\u001b[1m3/3\u001b[0m \u001b[32m━━━━━━━━━━━━━━━━━━━━\u001b[0m\u001b[37m\u001b[0m \u001b[1m0s\u001b[0m 25ms/step - accuracy: 0.8757 - loss: 0.3644 - val_accuracy: 0.8000 - val_loss: 0.2664\n",
      "Epoch 88/100\n",
      "\u001b[1m3/3\u001b[0m \u001b[32m━━━━━━━━━━━━━━━━━━━━\u001b[0m\u001b[37m\u001b[0m \u001b[1m0s\u001b[0m 25ms/step - accuracy: 0.8523 - loss: 0.3902 - val_accuracy: 0.8500 - val_loss: 0.2657\n",
      "Epoch 89/100\n",
      "\u001b[1m3/3\u001b[0m \u001b[32m━━━━━━━━━━━━━━━━━━━━\u001b[0m\u001b[37m\u001b[0m \u001b[1m0s\u001b[0m 30ms/step - accuracy: 0.8772 - loss: 0.3456 - val_accuracy: 0.8500 - val_loss: 0.2650\n",
      "Epoch 90/100\n",
      "\u001b[1m3/3\u001b[0m \u001b[32m━━━━━━━━━━━━━━━━━━━━\u001b[0m\u001b[37m\u001b[0m \u001b[1m0s\u001b[0m 27ms/step - accuracy: 0.8381 - loss: 0.4054 - val_accuracy: 0.8500 - val_loss: 0.2637\n",
      "Epoch 91/100\n",
      "\u001b[1m3/3\u001b[0m \u001b[32m━━━━━━━━━━━━━━━━━━━━\u001b[0m\u001b[37m\u001b[0m \u001b[1m0s\u001b[0m 29ms/step - accuracy: 0.8381 - loss: 0.4034 - val_accuracy: 0.8500 - val_loss: 0.2628\n",
      "Epoch 92/100\n",
      "\u001b[1m3/3\u001b[0m \u001b[32m━━━━━━━━━━━━━━━━━━━━\u001b[0m\u001b[37m\u001b[0m \u001b[1m0s\u001b[0m 31ms/step - accuracy: 0.8576 - loss: 0.3805 - val_accuracy: 0.8500 - val_loss: 0.2621\n",
      "Epoch 93/100\n",
      "\u001b[1m3/3\u001b[0m \u001b[32m━━━━━━━━━━━━━━━━━━━━\u001b[0m\u001b[37m\u001b[0m \u001b[1m0s\u001b[0m 29ms/step - accuracy: 0.8264 - loss: 0.3917 - val_accuracy: 0.8500 - val_loss: 0.2613\n",
      "Epoch 94/100\n",
      "\u001b[1m3/3\u001b[0m \u001b[32m━━━━━━━━━━━━━━━━━━━━\u001b[0m\u001b[37m\u001b[0m \u001b[1m0s\u001b[0m 51ms/step - accuracy: 0.8303 - loss: 0.3959 - val_accuracy: 0.8500 - val_loss: 0.2606\n",
      "Epoch 95/100\n",
      "\u001b[1m3/3\u001b[0m \u001b[32m━━━━━━━━━━━━━━━━━━━━\u001b[0m\u001b[37m\u001b[0m \u001b[1m0s\u001b[0m 35ms/step - accuracy: 0.8420 - loss: 0.3862 - val_accuracy: 0.8500 - val_loss: 0.2605\n",
      "Epoch 96/100\n",
      "\u001b[1m3/3\u001b[0m \u001b[32m━━━━━━━━━━━━━━━━━━━━\u001b[0m\u001b[37m\u001b[0m \u001b[1m0s\u001b[0m 31ms/step - accuracy: 0.8303 - loss: 0.3800 - val_accuracy: 0.8500 - val_loss: 0.2595\n",
      "Epoch 97/100\n",
      "\u001b[1m3/3\u001b[0m \u001b[32m━━━━━━━━━━━━━━━━━━━━\u001b[0m\u001b[37m\u001b[0m \u001b[1m0s\u001b[0m 28ms/step - accuracy: 0.8498 - loss: 0.3430 - val_accuracy: 0.8500 - val_loss: 0.2588\n",
      "Epoch 98/100\n",
      "\u001b[1m3/3\u001b[0m \u001b[32m━━━━━━━━━━━━━━━━━━━━\u001b[0m\u001b[37m\u001b[0m \u001b[1m0s\u001b[0m 36ms/step - accuracy: 0.8576 - loss: 0.3659 - val_accuracy: 0.8500 - val_loss: 0.2589\n",
      "Epoch 99/100\n",
      "\u001b[1m3/3\u001b[0m \u001b[32m━━━━━━━━━━━━━━━━━━━━\u001b[0m\u001b[37m\u001b[0m \u001b[1m0s\u001b[0m 28ms/step - accuracy: 0.8576 - loss: 0.3860 - val_accuracy: 0.8500 - val_loss: 0.2592\n",
      "Epoch 100/100\n",
      "\u001b[1m3/3\u001b[0m \u001b[32m━━━━━━━━━━━━━━━━━━━━\u001b[0m\u001b[37m\u001b[0m \u001b[1m0s\u001b[0m 28ms/step - accuracy: 0.8420 - loss: 0.3777 - val_accuracy: 0.8500 - val_loss: 0.2602\n"
     ]
    }
   ],
   "source": [
    "model.compile(loss='binary_crossentropy',optimizer='adam',metrics=['accuracy'])\n",
    "history=model.fit(X,y,epochs=100,validation_split=0.2)"
   ]
  },
  {
   "cell_type": "code",
   "execution_count": 63,
   "id": "d152f64c-600c-4ede-9207-00459e235ce9",
   "metadata": {},
   "outputs": [],
   "source": [
    "from mlxtend.plotting import plot_decision_regions\n"
   ]
  },
  {
   "cell_type": "code",
   "execution_count": 92,
   "id": "2b488142-6920-44d7-a23a-f55b06942aa2",
   "metadata": {},
   "outputs": [],
   "source": [
    "import numpy as np\n",
    "\n",
    "\n",
    "X\n",
    "# Convert y to a NumPy array with integer type\n",
    "y = np.array(y, dtype=np.int_)"
   ]
  },
  {
   "cell_type": "code",
   "execution_count": 93,
   "id": "549b4ad0-96c5-4b30-b5b6-73dc8deffbeb",
   "metadata": {},
   "outputs": [
    {
     "name": "stdout",
     "output_type": "stream",
     "text": [
      "\u001b[1m9600/9600\u001b[0m \u001b[32m━━━━━━━━━━━━━━━━━━━━\u001b[0m\u001b[37m\u001b[0m \u001b[1m5s\u001b[0m 496us/step\n"
     ]
    },
    {
     "data": {
      "text/plain": [
       "<Axes: >"
      ]
     },
     "execution_count": 93,
     "metadata": {},
     "output_type": "execute_result"
    },
    {
     "data": {
      "image/png": "[encoded data removed]",
      "text/plain": [
       "<Figure size 640x480 with 1 Axes>"
      ]
     },
     "metadata": {},
     "output_type": "display_data"
    }
   ],
   "source": [
    "plot_decision_regions(X.values, y,clf=model,legend=2)"
   ]
  },
  {
   "cell_type": "code",
   "execution_count": null,
   "id": "cfcf7e06-8975-4df6-881f-420cb3d28622",
   "metadata": {},
   "outputs": [],
   "source": []
  }
 ],
 "metadata": {
  "kernelspec": {
   "display_name": "Python 3 (ipykernel)",
   "language": "python",
   "name": "python3"
  },
  "language_info": {
   "codemirror_mode": {
    "name": "ipython",
    "version": 3
   },
   "file_extension": ".py",
   "mimetype": "text/x-python",
   "name": "python",
   "nbconvert_exporter": "python",
   "pygments_lexer": "ipython3",
   "version": "3.12.7"
  }
 },
 "nbformat": 4,
 "nbformat_minor": 5
}
